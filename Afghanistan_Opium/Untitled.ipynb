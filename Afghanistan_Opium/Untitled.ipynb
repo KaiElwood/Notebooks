{
 "cells": [
  {
   "cell_type": "code",
   "execution_count": 37,
   "metadata": {},
   "outputs": [],
   "source": [
    "!pip install -q \"camelot-py[base]\" tabula-py requests beautifulsoup4 \"tabula-py\""
   ]
  },
  {
   "cell_type": "code",
   "execution_count": 19,
   "metadata": {},
   "outputs": [
    {
     "name": "stdout",
     "output_type": "stream",
     "text": [
      "\u001b[31mERROR: Could not find a version that satisfies the requirement cv2 (from versions: none)\u001b[0m\r\n",
      "\u001b[31mERROR: No matching distribution found for cv2\u001b[0m\r\n"
     ]
    }
   ],
   "source": [
    "!pip install cv2"
   ]
  },
  {
   "cell_type": "code",
   "execution_count": 38,
   "metadata": {},
   "outputs": [],
   "source": [
    "import pandas as pd\n",
    "import numpy as np\n",
    "import tkinter\n",
    "import io\n",
    "import camelot\n",
    "import tabula\n",
    "import requests as req\n",
    "from bs4 import BeautifulSoup as soup"
   ]
  },
  {
   "cell_type": "code",
   "execution_count": 29,
   "metadata": {},
   "outputs": [],
   "source": [
    "url=req.get('https://moi.gov.af/dr/%DA%AF%D8%B2%D8%A7%D8%B1%D8%B4-%D8%A7%D9%82%D8%AA%D8%B5%D8%A7%D8%AF%DB%8C-%D9%88-%D8%A7%D8%AC%D8%AA%D9%85%D8%A7%D8%B9%DB%8C')\n",
    "soupy = soup(url.content,\"lxml\")"
   ]
  },
  {
   "cell_type": "code",
   "execution_count": 36,
   "metadata": {},
   "outputs": [
    {
     "name": "stdout",
     "output_type": "stream",
     "text": [
      "hi\n"
     ]
    }
   ],
   "source": [
    "print(\"hi\")"
   ]
  },
  {
   "cell_type": "code",
   "execution_count": 78,
   "metadata": {},
   "outputs": [
    {
     "name": "stdout",
     "output_type": "stream",
     "text": [
      "url with pdf final:  https://moi.gov.af/sites/default/files/2020-11/Afghanistan%20Opium%20Price%20Monitoring%20January%202010.pdf\n",
      "<TableList n=10>\n",
      "url with pdf final:  https://moi.gov.af/sites/default/files/2020-11/Afghanistan%20Opium%20Price%20Monitoring%20%20February%202010.pdf\n",
      "<TableList n=10>\n",
      "url with pdf final:  https://moi.gov.af/sites/default/files/2020-11/Afghanistan%20Opium%20Price%20Monitoring%20June_2010.pdf\n",
      "<TableList n=11>\n",
      "url with pdf final:  https://moi.gov.af/sites/default/files/2020-11/Afghanistan%20Opium%20Price%20Monitoring%20April_2010.pdf\n",
      "<TableList n=10>\n",
      "url with pdf final:  https://moi.gov.af/sites/default/files/2020-11/Afghanistan%20Opium%20Price%20Monitoring%20May_2010.pdf\n",
      "<TableList n=10>\n",
      "url with pdf final:  https://moi.gov.af/sites/default/files/2020-11/Afghanistan%20Opium%20Price%20Monitoring%20June_2010.pdf\n",
      "<TableList n=11>\n",
      "url with pdf final:  https://moi.gov.af/sites/default/files/2020-11/Afghanistan%20Opium%20Price%20Monitoring%20July_2010.pdf\n",
      "<TableList n=11>\n",
      "url with pdf final:  https://moi.gov.af/sites/default/files/2020-11/Afghanistan%20Opium%20Price%20Monitoring%20August%202010.pdf\n",
      "<TableList n=10>\n",
      "url with pdf final:  https://moi.gov.af/sites/default/files/2020-11/Afghanistan%20Opium%20Price%20Monitoring%20September%202010.pdf\n",
      "<TableList n=11>\n",
      "url with pdf final:  https://moi.gov.af/sites/default/files/2020-11/Afghanistan%20Opium%20Price%20Monitoring%20October%202010.pdf\n",
      "<TableList n=12>\n",
      "url with pdf final:  https://moi.gov.af/sites/default/files/2020-11/Afghanistan%20Opium%20Price%20Monitoring%20November%202010.pdf\n",
      "<TableList n=13>\n",
      "url with pdf final:  https://moi.gov.af/sites/default/files/2020-11/Afghanistan%20Opium%20Price%20Monitoring%20December%202010.pdf\n",
      "<TableList n=15>\n",
      "url with pdf final:  https://moi.gov.af/sites/default/files/2020-11/Afghanistan%20Opium%20Price%20Monitoring%20January%202011.pdf\n",
      "<TableList n=14>\n",
      "url with pdf final:  https://moi.gov.af/sites/default/files/2020-11/Afghanistan%20Opium%20Price%20Monitoring%20February%202011.pdf\n",
      "<TableList n=20>\n",
      "url with pdf final:  https://moi.gov.af/sites/default/files/2020-11/Afghanistan%20Opium%20Price%20Monitoring%20March2011.pdf\n",
      "<TableList n=15>\n",
      "url with pdf final:  https://moi.gov.af/sites/default/files/2020-11/Afghanistan%20Opium%20Price%20Monitoring%20April%202011.pdf\n",
      "<TableList n=17>\n",
      "url with pdf final:  https://moi.gov.af/sites/default/files/2020-11/Afghanistan%20Opium%20Price%20Monitoring%20May%20%202011.pdf\n",
      "<TableList n=18>\n",
      "url with pdf final:  https://moi.gov.af/sites/default/files/2020-11/Afghanistan%20Opium%20Price%20Monitoring%20June%202011.pdf\n",
      "<TableList n=17>\n",
      "url with pdf final:  https://moi.gov.af/sites/default/files/2020-11/Afghanistan%20Opium%20Price%20Monitoring%20July%202011.pdf\n",
      "<TableList n=18>\n",
      "url with pdf final:  https://moi.gov.af/sites/default/files/2020-11/Afghanistan%20Opium%20Price%20Monitoring%20August%202011.pdf\n"
     ]
    },
    {
     "name": "stderr",
     "output_type": "stream",
     "text": [
      "UserWarning:   (552.4199, 555.3389) does not lie in column range (43.20145161290323, 552.378560483871) [utils.py:740]\n",
      "UserWarning:   (498.96, 502.296) does not lie in column range (43.20145161290323, 498.73675806451615) [utils.py:740]\n",
      "UserWarning:   (535.3199, 538.6559) does not lie in column range (43.20145161290323, 534.9779465085923) [utils.py:740]\n",
      "UserWarning:   (552.78, 556.116) does not lie in column range (43.20145161290323, 552.6185685483871) [utils.py:740]\n",
      "UserWarning:   (559.3799, 562.7159) does not lie in column range (43.20145161290323, 559.3387943548388) [utils.py:740]\n",
      "UserWarning:   (565.86, 569.196) does not lie in column range (43.20145161290323, 565.6990080645162) [utils.py:740]\n"
     ]
    },
    {
     "name": "stdout",
     "output_type": "stream",
     "text": [
      "<TableList n=30>\n",
      "url with pdf final:  https://moi.gov.af/sites/default/files/2020-11/Afghanistan%20Opium%20Price%20Monitoring%20September%202011.pdf\n"
     ]
    },
    {
     "name": "stderr",
     "output_type": "stream",
     "text": [
      "UserWarning:   (552.36, 555.279) does not lie in column range (43.20145161290323, 552.1385524193548) [utils.py:740]\n",
      "UserWarning:   (552.4199, 555.3389) does not lie in column range (43.20145161290323, 552.378560483871) [utils.py:740]\n",
      "UserWarning:   (539.58, 542.916) does not lie in column range (43.20145161290323, 539.298120967742) [utils.py:740]\n",
      "UserWarning:   (552.12, 555.456) does not lie in column range (43.20145161290323, 551.8985443548388) [utils.py:740]\n"
     ]
    },
    {
     "name": "stdout",
     "output_type": "stream",
     "text": [
      "<TableList n=30>\n",
      "url with pdf final:  https://moi.gov.af/sites/default/files/2020-11/Afghanistan%20Opium%20Price%20Monitoring%20December%20%202011.pdf\n",
      "<TableList n=31>\n",
      "url with pdf final:  https://moi.gov.af/sites/default/files/2020-11/Afghanistan%20Opium%20Price%20Monitoring%20January%20%202012.pdf\n"
     ]
    },
    {
     "name": "stderr",
     "output_type": "stream",
     "text": [
      "UserWarning:   (545.64, 548.3862786) does not lie in column range (66.71625, 545.52) [utils.py:740]\n",
      "UserWarning:   (545.8199, 548.5661786) does not lie in column range (67.2, 545.52) [utils.py:740]\n",
      "UserWarning:   (545.8199, 548.9584643999999) does not lie in column range (67.44, 545.52) [utils.py:740]\n",
      "UserWarning:   (545.8199, 548.9584643999999) does not lie in column range (66.48, 545.52) [utils.py:740]\n",
      "UserWarning:   (546.0599, 548.8061786) does not lie in column range (66.48, 545.88) [utils.py:740]\n",
      "UserWarning:   (546.0599, 548.8061786) does not lie in column range (67.2, 545.88) [utils.py:740]\n"
     ]
    },
    {
     "name": "stdout",
     "output_type": "stream",
     "text": [
      "<TableList n=31>\n",
      "url with pdf final:  https://moi.gov.af/sites/default/files/2020-11/Afghanistan%20Opium%20Price%20Monitoring%20February%20%202012.pdf\n"
     ]
    },
    {
     "name": "stderr",
     "output_type": "stream",
     "text": [
      "UserWarning:   (552.48, 555.4156800000001) does not lie in column range (43.416249217805316, 552.0087396231359) [utils.py:740]\n",
      "UserWarning:   (552.36, 555.2956800000001) does not lie in column range (43.67119783151955, 551.8887638049174) [utils.py:740]\n",
      "UserWarning:   (552.6, 555.936) does not lie in column range (43.91114946795647, 552.0087396231359) [utils.py:740]\n",
      "UserWarning:   (552.6, 555.5356800000001) does not lie in column range (43.67119783151955, 552.0087396231359) [utils.py:740]\n",
      "UserWarning:   (552.6, 555.936) does not lie in column range (43.19129455864571, 552.2486912595728) [utils.py:740]\n"
     ]
    },
    {
     "name": "stdout",
     "output_type": "stream",
     "text": [
      "<TableList n=30>\n",
      "url with pdf final:  https://moi.gov.af/sites/default/files/2020-11/Afghanistan%20Opium%20Price%20Monitoring%20February%202011.pdf\n",
      "<TableList n=20>\n",
      "url with pdf final:  https://moi.gov.af/sites/default/files/2020-11/Afghanistan%20Opium%20Price%20Monitoring%20February%20%202012.pdf\n"
     ]
    },
    {
     "name": "stderr",
     "output_type": "stream",
     "text": [
      "UserWarning:   (552.48, 555.4156800000001) does not lie in column range (43.416249217805316, 552.0087396231359) [utils.py:740]\n",
      "UserWarning:   (552.36, 555.2956800000001) does not lie in column range (43.67119783151955, 551.8887638049174) [utils.py:740]\n",
      "UserWarning:   (552.6, 555.936) does not lie in column range (43.91114946795647, 552.0087396231359) [utils.py:740]\n",
      "UserWarning:   (552.6, 555.5356800000001) does not lie in column range (43.67119783151955, 552.0087396231359) [utils.py:740]\n",
      "UserWarning:   (552.6, 555.936) does not lie in column range (43.19129455864571, 552.2486912595728) [utils.py:740]\n"
     ]
    },
    {
     "name": "stdout",
     "output_type": "stream",
     "text": [
      "<TableList n=30>\n",
      "url with pdf final:  https://moi.gov.af/sites/default/files/2020-11/Afghanistan%20Opium%20Price%20Monitoring%20March%202012.pdf\n"
     ]
    },
    {
     "name": "stderr",
     "output_type": "stream",
     "text": [
      "UserWarning:   (552.36, 555.279) does not lie in column range (43.20145161290323, 552.1385524193548) [utils.py:740]\n",
      "UserWarning:   (552.54, 555.459) does not lie in column range (43.681467741935485, 552.2585564516129) [utils.py:740]\n",
      "UserWarning:   (521.8199, 525.1559) does not lie in column range (43.92147580645162, 521.4175201612903) [utils.py:740]\n",
      "UserWarning:   (521.8199, 525.1559) does not lie in column range (43.20145161290323, 521.4175201612903) [utils.py:740]\n",
      "UserWarning:   (552.36, 555.279) does not lie in column range (43.32145564516129, 552.1385524193548) [utils.py:740]\n",
      "UserWarning:   (552.4199, 555.7559) does not lie in column range (43.20145161290323, 552.378560483871) [utils.py:740]\n"
     ]
    },
    {
     "name": "stdout",
     "output_type": "stream",
     "text": [
      "<TableList n=31>\n",
      "url with pdf final:  https://moi.gov.af/sites/default/files/2020-11/Afghanistan%20Opium%20Price%20Monitoring%20%20April%202012.pdf\n"
     ]
    },
    {
     "name": "stderr",
     "output_type": "stream",
     "text": [
      "UserWarning:   (552.36, 555.279) does not lie in column range (43.20145161290323, 552.1385524193548) [utils.py:740]\n",
      "UserWarning:   (552.54, 555.459) does not lie in column range (43.681467741935485, 552.2585564516129) [utils.py:740]\n",
      "UserWarning:   (552.54, 555.876) does not lie in column range (43.92147580645162, 552.1385524193549) [utils.py:740]\n",
      "UserWarning:   (552.66, 555.579) does not lie in column range (43.681467741935485, 552.498564516129) [utils.py:740]\n",
      "UserWarning:   (385.08, 387.99899999999997) does not lie in column range (43.20145161290323, 384.61292338709677) [utils.py:740]\n",
      "UserWarning:   (519.4199, 522.20546) does not lie in column range (43.92147580645162, 519.1374435483872) [utils.py:740]\n",
      "UserWarning:   (552.48, 555.399) does not lie in column range (43.32145564516129, 552.378560483871) [utils.py:740]\n",
      "UserWarning:   (552.1799, 555.0989) does not lie in column range (43.43395942540323, 552.0785504032258) [utils.py:740]\n",
      "UserWarning:   (552.1799, 555.5159) does not lie in column range (43.20145161290323, 552.0185483870969) [utils.py:740]\n",
      "UserWarning:   (552.1799, 555.5159) does not lie in column range (43.20145161290323, 552.0785504032258) [utils.py:740]\n"
     ]
    },
    {
     "name": "stdout",
     "output_type": "stream",
     "text": [
      "<TableList n=32>\n",
      "url with pdf final:  https://moi.gov.af/sites/default/files/2020-11/Afghanistan%20Opium%20Price%20Monitoring%20%20May%202012.pdf\n"
     ]
    },
    {
     "name": "stderr",
     "output_type": "stream",
     "text": [
      "UserWarning:   (552.36, 555.279) does not lie in column range (43.20145161290323, 552.1385524193548) [utils.py:740]\n",
      "UserWarning:   (560.22, 563.139) does not lie in column range (43.20145161290323, 559.938814516129) [utils.py:740]\n",
      "UserWarning:   (552.2999, 555.6359) does not lie in column range (43.92147580645162, 551.8985443548388) [utils.py:740]\n",
      "UserWarning:   (552.2999, 555.6359) does not lie in column range (43.20145161290323, 551.8985443548388) [utils.py:740]\n",
      "UserWarning:   (552.54, 555.459) does not lie in column range (43.681467741935485, 552.2585564516129) [utils.py:740]\n",
      "UserWarning:   (347.64, 350.55899999999997) does not lie in column range (43.32145564516129, 347.1716653225807) [utils.py:740]\n",
      "UserWarning:   (503.64, 506.42555999999996) does not lie in column range (43.32145564516129, 503.2969112903226) [utils.py:740]\n",
      "UserWarning:   (552.72, 555.639) does not lie in column range (43.20145161290323, 552.6185685483871) [utils.py:740]\n",
      "UserWarning:   (552.4199, 555.3389) does not lie in column range (43.20145161290323, 552.2585564516129) [utils.py:740]\n",
      "UserWarning:   (552.4199, 555.7559) does not lie in column range (43.20145161290323, 552.2585564516129) [utils.py:740]\n"
     ]
    },
    {
     "name": "stdout",
     "output_type": "stream",
     "text": [
      "<TableList n=34>\n",
      "url with pdf final:  https://moi.gov.af/sites/default/files/2020-11/Afghanistan%20Opium%20Price%20Monitoring%20%20June%202012.pdf\n"
     ]
    },
    {
     "name": "stderr",
     "output_type": "stream",
     "text": [
      "UserWarning:   (571.3199, 574.2389) does not lie in column range (43.681467741935485, 570.979185483871) [utils.py:740]\n",
      "UserWarning:   (552.72, 556.056) does not lie in column range (43.92147580645162, 552.378560483871) [utils.py:740]\n",
      "UserWarning:   (552.72, 556.056) does not lie in column range (43.20145161290323, 552.378560483871) [utils.py:740]\n",
      "UserWarning:   (552.54, 555.459) does not lie in column range (43.681467741935485, 552.2585564516129) [utils.py:740]\n",
      "UserWarning:   (313.02, 315.93899999999996) does not lie in column range (43.20145161290323, 312.61050403225806) [utils.py:740]\n",
      "UserWarning:   (523.3199, 526.10546) does not lie in column range (43.41145866935484, 523.0975766129033) [utils.py:740]\n",
      "UserWarning:   (574.98, 577.899) does not lie in column range (43.681467741935485, 574.8193145161291) [utils.py:740]\n",
      "UserWarning:   (552.4199, 555.3389) does not lie in column range (43.20145161290323, 552.2585564516129) [utils.py:740]\n",
      "UserWarning:   (552.4199, 555.7559) does not lie in column range (43.20145161290323, 552.2585564516129) [utils.py:740]\n"
     ]
    },
    {
     "name": "stdout",
     "output_type": "stream",
     "text": [
      "<TableList n=37>\n",
      "url with pdf final:  https://moi.gov.af/sites/default/files/2020-11/Afghanistan%20Opium%20Price%20Monitoring%20July%202012.pdf\n",
      "<TableList n=35>\n",
      "url with pdf final:  https://moi.gov.af/sites/default/files/2020-11/Afghanistan%20Opium%20Price%20Monitoring%20August%202012.pdf\n",
      "<TableList n=35>\n",
      "url with pdf final:  https://moi.gov.af/sites/default/files/2020-11/Afghanistan%20Opium%20Price%20Monitoring%20September%202012.pdf\n",
      "<TableList n=40>\n",
      "url with pdf final:  https://moi.gov.af/sites/default/files/2020-11/Afghanistan%20Opium%20Price%20Monitoring%20October%202012.pdf\n",
      "<TableList n=42>\n",
      "url with pdf final:  https://moi.gov.af/sites/default/files/2020-11/Afghanistan%20Opium%20Price%20Monitoring%20November%202012.pdf\n",
      "<TableList n=40>\n",
      "url with pdf final:  https://moi.gov.af/sites/default/files/2020-11/Afghanistan%20Opium%20Price%20Monitoring%20December%202012.pdf\n",
      "<TableList n=42>\n",
      "url with pdf final:  https://moi.gov.af/sites/default/files/2020-11/Afghanistan%20Drug%20Price%20Monitoring%20January%202013.pdf\n",
      "<TableList n=41>\n",
      "url with pdf final:  https://moi.gov.af/sites/default/files/2020-11/Afghanistan%20Drug%20Price%20Monitoring%20February%202013.pdf\n",
      "<TableList n=42>\n",
      "url with pdf final:  https://moi.gov.af/sites/default/files/2020-11/Afghanistan%20Opium%20Price%20Monitoring%20February%202011.pdf\n",
      "<TableList n=20>\n",
      "url with pdf final:  https://moi.gov.af/sites/default/files/2020-11/Afghanistan%20Opium%20Price%20Monitoring%20February%20%202012.pdf\n"
     ]
    },
    {
     "name": "stderr",
     "output_type": "stream",
     "text": [
      "UserWarning:   (552.48, 555.4156800000001) does not lie in column range (43.416249217805316, 552.0087396231359) [utils.py:740]\n",
      "UserWarning:   (552.36, 555.2956800000001) does not lie in column range (43.67119783151955, 551.8887638049174) [utils.py:740]\n",
      "UserWarning:   (552.6, 555.936) does not lie in column range (43.91114946795647, 552.0087396231359) [utils.py:740]\n",
      "UserWarning:   (552.6, 555.5356800000001) does not lie in column range (43.67119783151955, 552.0087396231359) [utils.py:740]\n",
      "UserWarning:   (552.6, 555.936) does not lie in column range (43.19129455864571, 552.2486912595728) [utils.py:740]\n"
     ]
    },
    {
     "name": "stdout",
     "output_type": "stream",
     "text": [
      "<TableList n=30>\n",
      "url with pdf final:  https://moi.gov.af/sites/default/files/2020-11/Afghanistan%20Drug%20Price%20Monitoring%20February%202013.pdf\n",
      "<TableList n=42>\n",
      "url with pdf final:  https://moi.gov.af/sites/default/files/2020-11/Afghanistan%20Drug%20Price%20Monitoring%20March%202013.pdf\n",
      "<TableList n=44>\n",
      "url with pdf final:  https://moi.gov.af/sites/default/files/2020-11/Afghanistan%20Drug%20Price%20Monitoring%20April%202013_0.pdf\n",
      "<TableList n=43>\n",
      "url with pdf final:  https://moi.gov.af/sites/default/files/2020-11/Afghanistan%20Drug%20Price%20Monitoring%20May%202013.pdf\n",
      "<TableList n=48>\n",
      "url with pdf final:  https://moi.gov.af/sites/default/files/2020-11/Afghanistan%20Drug%20Price%20Monitoring%20June%202013.pdf\n",
      "<TableList n=45>\n",
      "url with pdf final:  https://moi.gov.af/sites/default/files/2020-11/Afghanistan%20Drug%20Price%20Monitoring%20July%202013.pdf\n",
      "<TableList n=42>\n",
      "url with pdf final:  https://moi.gov.af/sites/default/files/2020-11/Afghanistan%20Drug%20Price%20Monitoring%20August%202013.pdf\n",
      "<TableList n=42>\n",
      "url with pdf final:  https://moi.gov.af/sites/default/files/2020-11/Afghanistan%20Drug%20Price%20Monitoring%20September%202013.pdf\n",
      "<TableList n=45>\n",
      "url with pdf final:  https://moi.gov.af/sites/default/files/2020-11/Afghanistan%20Drug%20Price%20Monitoring%20October%202013_dd.pdf\n",
      "<TableList n=45>\n",
      "url with pdf final:  https://moi.gov.af/sites/default/files/2020-11/Afghanistan%20Drug%20Price%20Monitoring%20November%202013.pdf\n",
      "<TableList n=44>\n",
      "url with pdf final:  https://moi.gov.af/sites/default/files/2020-11/Afghanistan%20Drug%20Price%20Monitoring%20December%202013.pdf\n",
      "<TableList n=45>\n",
      "url with pdf final:  https://moi.gov.af/sites/default/files/2020-11/Afghanistan%20Drug%20Price%20Monitoring%20January%202014.pdf\n",
      "<TableList n=45>\n",
      "url with pdf final:  https://moi.gov.af/sites/default/files/2020-11/Afghanistan%20Drug%20Price%20Monitoring%20February%202014.pdf\n",
      "<TableList n=45>\n",
      "url with pdf final:  https://moi.gov.af/sites/default/files/2020-11/Afghanistan%20Drug%20Price%20Monitoring%20March%202014.pdf\n",
      "<TableList n=45>\n",
      "url with pdf final:  https://moi.gov.af/sites/default/files/2020-11/Afghanistan%20Drug%20Price%20Monitoring%20April%20%202014.pdf\n"
     ]
    },
    {
     "name": "stderr",
     "output_type": "stream",
     "text": [
      "UserWarning:   (553.18, 556.11568) does not lie in column range (43.67119709794438, 552.9685368802902) [utils.py:740]\n",
      "UserWarning:   (553.18, 556.11568) does not lie in column range (43.67119709794438, 552.8485610640871) [utils.py:740]\n",
      "UserWarning:   (553.06, 555.99568) does not lie in column range (43.67119709794438, 552.728585247884) [utils.py:740]\n",
      "UserWarning:   (552.7, 556.0360000000001) does not lie in column range (43.91114873035067, 552.2486819830714) [utils.py:740]\n",
      "UserWarning:   (552.7, 556.0360000000001) does not lie in column range (43.19129383313181, 552.2486819830714) [utils.py:740]\n",
      "UserWarning:   (553.3, 556.23568) does not lie in column range (43.67119709794438, 552.9685368802902) [utils.py:740]\n",
      "UserWarning:   (403.15, 406.08567999999997) does not lie in column range (50.62979443772673, 402.6388391777509) [utils.py:740]\n",
      "UserWarning:   (552.58, 555.916) does not lie in column range (43.67119709794438, 552.2486819830714) [utils.py:740]\n",
      "UserWarning:   (548.02, 551.356) does not lie in column range (50.62979443772673, 547.5696251511488) [utils.py:740]\n",
      "UserWarning:   (552.94, 556.2760000000001) does not lie in column range (43.67119709794438, 552.6086094316809) [utils.py:740]\n",
      "UserWarning:   (553.18, 556.516) does not lie in column range (43.67119709794438, 552.9685368802902) [utils.py:740]\n",
      "UserWarning:   (552.82, 556.1560000000001) does not lie in column range (43.19129383313181, 552.4886336154777) [utils.py:740]\n",
      "UserWarning:   (552.82, 556.1560000000001) does not lie in column range (43.67119709794438, 552.4886336154777) [utils.py:740]\n",
      "UserWarning:   (552.82, 555.7556800000001) does not lie in column range (43.67119709794438, 552.4886336154777) [utils.py:740]\n",
      "UserWarning:   (552.58, 555.5156800000001) does not lie in column range (43.19129383313181, 552.2486819830714) [utils.py:740]\n"
     ]
    },
    {
     "name": "stdout",
     "output_type": "stream",
     "text": [
      "<TableList n=44>\n",
      "url with pdf final:  https://moi.gov.af/sites/default/files/2020-11/Afghanistan%20Drug%20Price%20Monitoring%20May%20%202014.pdf\n"
     ]
    },
    {
     "name": "stderr",
     "output_type": "stream",
     "text": [
      "UserWarning:   (552.82, 555.7556800000001) does not lie in column range (47.030519951632414, 552.4886336154777) [utils.py:740]\n",
      "UserWarning:   (521.02, 523.95568) does not lie in column range (53.50921402660218, 520.5750665054413) [utils.py:740]\n",
      "UserWarning:   (551.62, 554.55568) does not lie in column range (43.67119709794438, 551.2888754534463) [utils.py:740]\n",
      "UserWarning:   (547.66, 550.996) does not lie in column range (43.91114873035067, 547.2096977025394) [utils.py:740]\n",
      "UserWarning:   (554.5, 557.43568) does not lie in column range (43.67119709794438, 554.1682950423217) [utils.py:740]\n",
      "UserWarning:   (403.15, 406.08567999999997) does not lie in column range (50.62979443772673, 402.6388391777509) [utils.py:740]\n",
      "UserWarning:   (542.26, 545.596) does not lie in column range (47.030519951632414, 541.930761789601) [utils.py:740]\n",
      "UserWarning:   (518.14, 521.476) does not lie in column range (50.62979443772673, 517.815622732769) [utils.py:740]\n",
      "UserWarning:   (521.86, 525.196) does not lie in column range (43.67119709794438, 521.5348730350665) [utils.py:740]\n",
      "UserWarning:   (538.9, 542.236) does not lie in column range (43.67119709794438, 538.571438935913) [utils.py:740]\n",
      "UserWarning:   (544.3, 547.636) does not lie in column range (43.67119709794438, 543.8503748488513) [utils.py:740]\n",
      "UserWarning:   (544.9, 548.236) does not lie in column range (43.67119709794438, 544.5702297460703) [utils.py:740]\n",
      "UserWarning:   (544.9, 547.83568) does not lie in column range (43.67119709794438, 544.5702297460703) [utils.py:740]\n"
     ]
    },
    {
     "name": "stdout",
     "output_type": "stream",
     "text": [
      "<TableList n=42>\n",
      "url with pdf final:  https://moi.gov.af/sites/default/files/2020-11/Afghanistan%20Drug%20Price%20Monitoring%20June%20%202014.pdf\n"
     ]
    },
    {
     "name": "stderr",
     "output_type": "stream",
     "text": [
      "UserWarning:   (544.78, 547.71568) does not lie in column range (47.030519951632414, 544.4502539298671) [utils.py:740]\n",
      "UserWarning:   (528.94, 531.8756800000001) does not lie in column range (53.74916565900847, 528.613446191052) [utils.py:740]\n",
      "UserWarning:   (541.3, 544.23568) does not lie in column range (43.67119709794438, 540.9709552599759) [utils.py:740]\n",
      "UserWarning:   (543.58, 546.916) does not lie in column range (43.91114873035067, 543.2504957678357) [utils.py:740]\n",
      "UserWarning:   (551.62, 554.55568) does not lie in column range (43.67119709794438, 551.2888754534463) [utils.py:740]\n",
      "UserWarning:   (415.87, 418.80568) does not lie in column range (50.62979443772673, 415.23629987908106) [utils.py:740]\n",
      "UserWarning:   (544.06, 547.396) does not lie in column range (47.030519951632414, 543.610423216445) [utils.py:740]\n",
      "UserWarning:   (518.14, 521.476) does not lie in column range (50.62979443772673, 517.815622732769) [utils.py:740]\n",
      "UserWarning:   (512.86, 516.196) does not lie in column range (43.67119709794438, 512.4167110036276) [utils.py:740]\n",
      "UserWarning:   (534.7, 538.0360000000001) does not lie in column range (43.67119709794438, 534.2523095525999) [utils.py:740]\n",
      "UserWarning:   (545.62, 548.956) does not lie in column range (43.67119709794438, 545.290084643289) [utils.py:740]\n",
      "UserWarning:   (549.7, 553.0360000000001) does not lie in column range (43.67119709794438, 549.3692623941959) [utils.py:740]\n",
      "UserWarning:   (549.7, 552.6356800000001) does not lie in column range (43.67119709794438, 549.3692623941959) [utils.py:740]\n"
     ]
    },
    {
     "name": "stdout",
     "output_type": "stream",
     "text": [
      "<TableList n=41>\n",
      "url with pdf final:  https://moi.gov.af/sites/default/files/2020-11/Afghanistan%20Drug%20Price%20Monitoring%20July%20%202014.pdf\n"
     ]
    },
    {
     "name": "stderr",
     "output_type": "stream",
     "text": [
      "UserWarning:   (542.64, 545.57568) does not lie in column range (47.030519951632414, 542.1707134220073) [utils.py:740]\n",
      "UserWarning:   (535.54, 538.47568) does not lie in column range (53.74916565900847, 535.212116082225) [utils.py:740]\n",
      "UserWarning:   (556.32, 559.2556800000001) does not lie in column range (43.67119709794438, 555.8479564691656) [utils.py:740]\n",
      "UserWarning:   (544.2, 547.5360000000001) does not lie in column range (43.91114873035067, 543.7303990326482) [utils.py:740]\n",
      "UserWarning:   (553.44, 556.3756800000001) does not lie in column range (43.67119709794438, 552.9685368802902) [utils.py:740]\n",
      "UserWarning:   (403.15, 406.08567999999997) does not lie in column range (50.62979443772673, 402.6388391777509) [utils.py:740]\n",
      "UserWarning:   (552.36, 555.696) does not lie in column range (47.030519951632414, 552.0087303506651) [utils.py:740]\n",
      "UserWarning:   (530.5, 533.836) does not lie in column range (50.62979443772673, 530.0531559854898) [utils.py:740]\n",
      "UserWarning:   (532.66, 535.996) does not lie in column range (50.38984280532044, 532.3326964933494) [utils.py:740]\n",
      "UserWarning:   (547.8, 551.136) does not lie in column range (43.67119709794438, 547.4496493349457) [utils.py:740]\n",
      "UserWarning:   (545.16, 548.496) does not lie in column range (43.67119709794438, 544.8101813784765) [utils.py:740]\n",
      "UserWarning:   (541.8, 544.73568) does not lie in column range (43.67119709794438, 541.4508585247884) [utils.py:740]\n"
     ]
    },
    {
     "name": "stdout",
     "output_type": "stream",
     "text": [
      "<TableList n=42>\n",
      "url with pdf final:  https://moi.gov.af/sites/default/files/2020-11/Afghanistan%20Drug%20Price%20Monitoring%20August%20%202014.pdf\n"
     ]
    },
    {
     "name": "stderr",
     "output_type": "stream",
     "text": [
      "UserWarning:   (551.4, 554.33568) does not lie in column range (47.030519951632414, 551.0489238210399) [utils.py:740]\n",
      "UserWarning:   (532.54, 535.47568) does not lie in column range (53.74916565900847, 532.2127206771463) [utils.py:740]\n",
      "UserWarning:   (558.84, 561.7756800000001) does not lie in column range (43.67119709794438, 558.4874244256348) [utils.py:740]\n",
      "UserWarning:   (548.16, 551.496) does not lie in column range (43.91114873035067, 547.809576783555) [utils.py:740]\n",
      "UserWarning:   (555.6, 558.5356800000001) does not lie in column range (43.67119709794438, 555.24807738815) [utils.py:740]\n",
      "UserWarning:   (403.15, 406.08567999999997) does not lie in column range (50.62979443772673, 402.6388391777509) [utils.py:740]\n",
      "UserWarning:   (545.88, 549.216) does not lie in column range (47.030519951632414, 545.5300362756954) [utils.py:740]\n",
      "UserWarning:   (517.78, 521.116) does not lie in column range (50.62979443772673, 517.3357194679566) [utils.py:740]\n",
      "UserWarning:   (521.74, 525.076) does not lie in column range (50.38984280532044, 521.4148972188634) [utils.py:740]\n",
      "UserWarning:   (524.62, 527.956) does not lie in column range (47.030519951632414, 524.1743409915357) [utils.py:740]\n",
      "UserWarning:   (537.34, 540.2756800000001) does not lie in column range (43.67119709794438, 537.0117533252721) [utils.py:740]\n"
     ]
    },
    {
     "name": "stdout",
     "output_type": "stream",
     "text": [
      "<TableList n=41>\n",
      "url with pdf final:  https://moi.gov.af/sites/default/files/2020-11/Afghanistan%20Drug%20Price%20Monitoring%20September%202014.pdf\n"
     ]
    },
    {
     "name": "stderr",
     "output_type": "stream",
     "text": [
      "UserWarning:   (534.7, 537.6356800000001) does not lie in column range (47.030519951632414, 534.2523095525999) [utils.py:740]\n",
      "UserWarning:   (536.26, 539.19568) does not lie in column range (53.74916565900847, 535.9319709794438) [utils.py:740]\n",
      "UserWarning:   (550.44, 553.3756800000001) does not lie in column range (43.67119709794438, 550.0891172914148) [utils.py:740]\n",
      "UserWarning:   (535.06, 538.396) does not lie in column range (43.91114873035067, 534.6122370012092) [utils.py:740]\n",
      "UserWarning:   (536.5, 539.43568) does not lie in column range (43.67119709794438, 536.17192261185) [utils.py:740]\n",
      "UserWarning:   (403.15, 406.08567999999997) does not lie in column range (50.62979443772673, 402.6388391777509) [utils.py:740]\n",
      "UserWarning:   (517.9, 521.236) does not lie in column range (50.62979443772673, 517.4556952841597) [utils.py:740]\n",
      "UserWarning:   (517.9, 521.236) does not lie in column range (50.38984280532044, 517.4556952841597) [utils.py:740]\n",
      "UserWarning:   (543.6, 546.936) does not lie in column range (43.67119709794438, 543.2504957678357) [utils.py:740]\n",
      "UserWarning:   (545.04, 547.97568) does not lie in column range (43.67119709794438, 544.5702297460703) [utils.py:740]\n"
     ]
    },
    {
     "name": "stdout",
     "output_type": "stream",
     "text": [
      "<TableList n=41>\n",
      "url with pdf final:  https://moi.gov.af/sites/default/files/2020-11/Afghanistan%20Drug%20Price%20Monitoring%20October%20%202014.pdf\n"
     ]
    },
    {
     "name": "stderr",
     "output_type": "stream",
     "text": [
      "UserWarning:   (533.26, 536.19568) does not lie in column range (47.030519951632414, 532.8125997581622) [utils.py:740]\n",
      "UserWarning:   (532.54, 535.47568) does not lie in column range (53.74916565900847, 532.2127206771463) [utils.py:740]\n",
      "UserWarning:   (554.28, 557.21568) does not lie in column range (43.67119709794438, 553.9283434099154) [utils.py:740]\n",
      "UserWarning:   (535.66, 538.996) does not lie in column range (43.91114873035067, 535.212116082225) [utils.py:740]\n",
      "UserWarning:   (550.68, 553.61568) does not lie in column range (43.67119709794438, 550.3290689238211) [utils.py:740]\n",
      "UserWarning:   (403.15, 406.08567999999997) does not lie in column range (50.62979443772673, 402.6388391777509) [utils.py:740]\n",
      "UserWarning:   (540.96, 544.296) does not lie in column range (47.030519951632414, 540.6110278113665) [utils.py:740]\n",
      "UserWarning:   (517.9, 521.236) does not lie in column range (50.62979443772673, 517.4556952841597) [utils.py:740]\n",
      "UserWarning:   (517.66, 520.996) does not lie in column range (50.38984280532044, 517.2157436517534) [utils.py:740]\n",
      "UserWarning:   (525.22, 528.556) does not lie in column range (47.030519951632414, 524.8941958887546) [utils.py:740]\n",
      "UserWarning:   (544.44, 547.7760000000001) does not lie in column range (43.67119709794438, 544.0903264812575) [utils.py:740]\n",
      "UserWarning:   (542.4, 545.33568) does not lie in column range (43.67119709794438, 542.0507376058042) [utils.py:740]\n"
     ]
    },
    {
     "name": "stdout",
     "output_type": "stream",
     "text": [
      "<TableList n=41>\n",
      "url with pdf final:  https://moi.gov.af/sites/default/files/2020-11/Afghanistan%20Drug%20Price%20Monitoring%20November%202014.pdf\n"
     ]
    },
    {
     "name": "stderr",
     "output_type": "stream",
     "text": [
      "UserWarning:   (514.44, 517.3756800000001) does not lie in column range (47.030519951632414, 514.0963724304717) [utils.py:740]\n",
      "UserWarning:   (521.04, 523.97568) does not lie in column range (53.50921402660218, 520.5750665054413) [utils.py:740]\n",
      "UserWarning:   (549.84, 552.7756800000001) does not lie in column range (43.67119709794438, 549.3692623941959) [utils.py:740]\n",
      "UserWarning:   (545.88, 549.216) does not lie in column range (43.91114873035067, 545.4100604594921) [utils.py:740]\n",
      "UserWarning:   (550.92, 553.85568) does not lie in column range (43.67119709794438, 550.5690205562273) [utils.py:740]\n",
      "UserWarning:   (403.18, 406.11568) does not lie in column range (50.62979443772673, 402.6388391777509) [utils.py:740]\n",
      "UserWarning:   (536.04, 539.376) does not lie in column range (50.62979443772673, 535.5720435308344) [utils.py:740]\n",
      "UserWarning:   (536.28, 539.616) does not lie in column range (50.38984280532044, 535.9319709794438) [utils.py:740]\n",
      "UserWarning:   (546.12, 549.456) does not lie in column range (43.67119709794438, 545.7699879081016) [utils.py:740]\n",
      "UserWarning:   (544.8, 548.136) does not lie in column range (43.67119709794438, 544.4502539298671) [utils.py:740]\n",
      "UserWarning:   (544.8, 547.73568) does not lie in column range (43.67119709794438, 544.4502539298671) [utils.py:740]\n"
     ]
    },
    {
     "name": "stdout",
     "output_type": "stream",
     "text": [
      "<TableList n=42>\n",
      "url with pdf final:  https://moi.gov.af/sites/default/files/2020-11/Afghanistan%20Drug%20Price%20Monitoring%20December%202014.pdf\n"
     ]
    },
    {
     "name": "stderr",
     "output_type": "stream",
     "text": [
      "UserWarning:   (581.4, 584.33568) does not lie in column range (43.67119709794438, 581.0428778718259) [utils.py:740]\n",
      "UserWarning:   (577.08, 580.0156800000001) does not lie in column range (43.67119709794438, 576.7237484885127) [utils.py:740]\n",
      "UserWarning:   (554.98, 558.316) does not lie in column range (43.670259786880294, 554.7681741233374) [utils.py:740]\n",
      "UserWarning:   (584.28, 587.21568) does not lie in column range (43.67119709794438, 583.9222974607014) [utils.py:740]\n",
      "UserWarning:   (403.15, 406.08567999999997) does not lie in column range (50.62979443772673, 402.6388391777509) [utils.py:740]\n",
      "UserWarning:   (573.0, 576.336) does not lie in column range (43.91114873035067, 572.5245949214027) [utils.py:740]\n",
      "UserWarning:   (524.86, 528.196) does not lie in column range (50.62979443772673, 524.2943168077388) [utils.py:740]\n",
      "UserWarning:   (586.68, 590.016) does not lie in column range (43.67119709794438, 586.3218137847642) [utils.py:740]\n",
      "UserWarning:   (562.78, 566.116) does not lie in column range (43.91114873035067, 562.4466263603385) [utils.py:740]\n",
      "UserWarning:   (567.0, 570.336) does not lie in column range (43.42374697702539, 566.5258041112455) [utils.py:740]\n",
      "UserWarning:   (568.32, 571.2556800000001) does not lie in column range (43.42374697702539, 567.8455380894801) [utils.py:740]\n",
      "UserWarning:   (389.71, 392.64567999999997) does not lie in column range (43.67096277017836, 389.321523579202) [utils.py:740]\n",
      "UserWarning:   (582.24, 585.17568) does not lie in column range (43.42374697702539, 581.7627327690448) [utils.py:740]\n",
      "UserWarning:   (580.8, 583.73568) does not lie in column range (43.42374697702539, 580.323022974607) [utils.py:740]\n"
     ]
    },
    {
     "name": "stdout",
     "output_type": "stream",
     "text": [
      "<TableList n=41>\n",
      "url with pdf final:  https://moi.gov.af/sites/default/files/2020-11/Afghanistan%20Drug%20Price%20Monitoring%20January%202015.pdf\n"
     ]
    },
    {
     "name": "stderr",
     "output_type": "stream",
     "text": [
      "UserWarning:   (552.48, 555.4156800000001) does not lie in column range (43.430308154474005, 552.0087303506651) [utils.py:740]\n",
      "UserWarning:   (552.36, 555.2956800000001) does not lie in column range (43.67119709794438, 552.0087303506651) [utils.py:740]\n",
      "UserWarning:   (548.16, 551.496) does not lie in column range (43.91114873035067, 547.809576783555) [utils.py:740]\n",
      "UserWarning:   (552.0, 554.93568) does not lie in column range (43.67119709794438, 551.6488029020556) [utils.py:740]\n",
      "UserWarning:   (379.87, 383.206) does not lie in column range (50.62979443772673, 379.2435550181379) [utils.py:740]\n",
      "UserWarning:   (544.56, 547.896) does not lie in column range (47.030519951632414, 544.2103022974607) [utils.py:740]\n",
      "UserWarning:   (529.42, 532.756) does not lie in column range (50.62979443772673, 528.8533978234584) [utils.py:740]\n",
      "UserWarning:   (529.42, 532.756) does not lie in column range (50.38984280532044, 528.9733736396615) [utils.py:740]\n",
      "UserWarning:   (546.12, 549.456) does not lie in column range (47.030519951632414, 545.7699879081016) [utils.py:740]\n",
      "UserWarning:   (541.08, 544.416) does not lie in column range (43.67119709794438, 540.7310036275696) [utils.py:740]\n",
      "UserWarning:   (540.36, 543.2956800000001) does not lie in column range (43.67119709794438, 540.0111487303507) [utils.py:740]\n"
     ]
    },
    {
     "name": "stdout",
     "output_type": "stream",
     "text": [
      "<TableList n=38>\n",
      "url with pdf final:  https://moi.gov.af/sites/default/files/2020-11/Afghanistan%20Drug%20Price%20Monitoring%20February%20%202015.pdf\n"
     ]
    },
    {
     "name": "stderr",
     "output_type": "stream",
     "text": [
      "UserWarning:   (552.46, 555.3956800000001) does not lie in column range (43.430308154474005, 552.0087303506651) [utils.py:740]\n",
      "UserWarning:   (552.7, 555.6356800000001) does not lie in column range (43.430308154474005, 552.3686577992746) [utils.py:740]\n",
      "UserWarning:   (552.7, 556.0360000000001) does not lie in column range (43.670259786880294, 552.3686577992746) [utils.py:740]\n",
      "UserWarning:   (552.82, 555.7556800000001) does not lie in column range (43.430308154474005, 552.6086094316809) [utils.py:740]\n",
      "UserWarning:   (547.18, 550.516) does not lie in column range (43.670259786880294, 546.6098186215236) [utils.py:740]\n",
      "UserWarning:   (396.55, 399.48568) does not lie in column range (43.67119706933991, 396.16014510278114) [utils.py:740]\n",
      "UserWarning:   (533.62, 536.956) does not lie in column range (50.38984234764902, 533.1725272067715) [utils.py:740]\n",
      "UserWarning:   (552.82, 556.1560000000001) does not lie in column range (43.41624848851269, 552.6086094316809) [utils.py:740]\n",
      "UserWarning:   (552.58, 555.916) does not lie in column range (43.42374697702539, 552.2486819830714) [utils.py:740]\n",
      "UserWarning:   (552.46, 555.796) does not lie in column range (43.42374697702539, 552.1287061668683) [utils.py:740]\n",
      "UserWarning:   (552.46, 555.3956800000001) does not lie in column range (43.42374697702539, 552.1287061668683) [utils.py:740]\n"
     ]
    },
    {
     "name": "stdout",
     "output_type": "stream",
     "text": [
      "<TableList n=38>\n",
      "url with pdf final:  https://moi.gov.af/sites/default/files/2020-11/Afghanistan%20Drug%20Price%20Monitoring%20March%20%202015.pdf\n"
     ]
    },
    {
     "name": "stderr",
     "output_type": "stream",
     "text": [
      "UserWarning:   (552.46, 555.3956800000001) does not lie in column range (43.430308154474005, 552.0087303506651) [utils.py:740]\n",
      "UserWarning:   (552.7, 555.6356800000001) does not lie in column range (43.430308154474005, 552.3686577992746) [utils.py:740]\n",
      "UserWarning:   (552.7, 556.0360000000001) does not lie in column range (43.670259786880294, 552.3686577992746) [utils.py:740]\n",
      "UserWarning:   (552.82, 555.7556800000001) does not lie in column range (43.430308154474005, 552.4886336154777) [utils.py:740]\n",
      "UserWarning:   (550.9, 554.236) does not lie in column range (43.670259786880294, 550.4490447400242) [utils.py:740]\n",
      "UserWarning:   (396.55, 399.48568) does not lie in column range (43.67119706933991, 396.16014510278114) [utils.py:740]\n",
      "UserWarning:   (552.7, 556.0360000000001) does not lie in column range (43.42937084340991, 552.2486819830714) [utils.py:740]\n",
      "UserWarning:   (538.42, 541.756) does not lie in column range (50.38984234764902, 537.9715598548974) [utils.py:740]\n",
      "UserWarning:   (552.46, 555.796) does not lie in column range (43.41624848851269, 552.1287061668683) [utils.py:740]\n",
      "UserWarning:   (552.58, 555.916) does not lie in column range (43.42374697702539, 552.3686577992746) [utils.py:740]\n",
      "UserWarning:   (552.46, 555.796) does not lie in column range (43.42374697702539, 552.1287061668683) [utils.py:740]\n",
      "UserWarning:   (552.46, 555.3956800000001) does not lie in column range (43.42374697702539, 552.1287061668683) [utils.py:740]\n"
     ]
    },
    {
     "name": "stdout",
     "output_type": "stream",
     "text": [
      "<TableList n=38>\n",
      "url with pdf final:  https://moi.gov.af/sites/default/files/2020-11/Afghanistan%20Drug%20Price%20Monitoring%20April%20%202015.pdf\n"
     ]
    },
    {
     "name": "stderr",
     "output_type": "stream",
     "text": [
      "UserWarning:   (552.46, 555.3956800000001) does not lie in column range (43.430308154474005, 552.0087303506651) [utils.py:740]\n",
      "UserWarning:   (552.7, 555.6356800000001) does not lie in column range (43.430308154474005, 552.3686577992746) [utils.py:740]\n",
      "UserWarning:   (552.7, 556.0360000000001) does not lie in column range (43.670259786880294, 552.3686577992746) [utils.py:740]\n",
      "UserWarning:   (552.82, 555.7556800000001) does not lie in column range (43.430308154474005, 552.6086094316809) [utils.py:740]\n",
      "UserWarning:   (550.54, 553.876) does not lie in column range (43.670259786880294, 549.9691414752117) [utils.py:740]\n",
      "UserWarning:   (396.55, 399.48568) does not lie in column range (43.67119706933991, 396.16014510278114) [utils.py:740]\n",
      "UserWarning:   (554.02, 557.356) does not lie in column range (43.42937084340991, 553.568415961306) [utils.py:740]\n",
      "UserWarning:   (524.98, 528.316) does not lie in column range (50.38984234764902, 524.5342684401451) [utils.py:740]\n",
      "UserWarning:   (550.66, 553.996) does not lie in column range (50.13489419588876, 550.4490447400242) [utils.py:740]\n",
      "UserWarning:   (43.2, 46.536) does not lie in column range (46.78306983071343, 548.6494074969771) [utils.py:740]\n",
      "UserWarning:   (548.98, 552.316) does not lie in column range (46.78306983071343, 548.6494074969771) [utils.py:740]\n",
      "UserWarning:   (552.46, 555.796) does not lie in column range (43.42374697702539, 552.1287061668683) [utils.py:740]\n",
      "UserWarning:   (552.46, 555.3956800000001) does not lie in column range (43.42374697702539, 552.1287061668683) [utils.py:740]\n"
     ]
    },
    {
     "name": "stdout",
     "output_type": "stream",
     "text": [
      "<TableList n=38>\n",
      "url with pdf final:  https://moi.gov.af/sites/default/files/2020-11/Afghanistan%20Drug%20Price%20Monitoring%20May%20%202015.pdf\n"
     ]
    },
    {
     "name": "stderr",
     "output_type": "stream",
     "text": [
      "UserWarning:   (552.46, 555.3956800000001) does not lie in column range (43.430308154474005, 552.0087303506651) [utils.py:740]\n",
      "UserWarning:   (552.7, 555.6356800000001) does not lie in column range (43.430308154474005, 552.3686577992746) [utils.py:740]\n",
      "UserWarning:   (552.7, 556.0360000000001) does not lie in column range (43.670259786880294, 552.3686577992746) [utils.py:740]\n",
      "UserWarning:   (552.34, 555.2756800000001) does not lie in column range (43.430308154474005, 552.1287061668683) [utils.py:740]\n",
      "UserWarning:   (544.42, 547.756) does not lie in column range (43.670259786880294, 543.9703506650544) [utils.py:740]\n",
      "UserWarning:   (396.43, 399.36568) does not lie in column range (43.91114873035067, 395.9201934703749) [utils.py:740]\n",
      "UserWarning:   (552.7, 556.0360000000001) does not lie in column range (43.42937084340991, 552.2486819830714) [utils.py:740]\n",
      "UserWarning:   (495.58, 498.916) does not lie in column range (50.38984234764902, 495.26016928657805) [utils.py:740]\n",
      "UserWarning:   (552.7, 556.0360000000001) does not lie in column range (43.42374697702539, 552.3686577992746) [utils.py:740]\n",
      "UserWarning:   (552.22, 555.556) does not lie in column range (43.42374697702539, 551.8887545344619) [utils.py:740]\n",
      "UserWarning:   (552.22, 555.1556800000001) does not lie in column range (43.42374697702539, 551.8887545344619) [utils.py:740]\n"
     ]
    },
    {
     "name": "stdout",
     "output_type": "stream",
     "text": [
      "<TableList n=36>\n",
      "url with pdf final:  https://moi.gov.af/sites/default/files/2020-11/Afghanistan%20Drug%20Price%20Monitoring%20June%20%202015.pdf\n"
     ]
    },
    {
     "name": "stderr",
     "output_type": "stream",
     "text": [
      "UserWarning:   (552.46, 555.3956800000001) does not lie in column range (43.430308154474005, 552.0087303506651) [utils.py:740]\n",
      "UserWarning:   (552.7, 555.6356800000001) does not lie in column range (43.430308154474005, 552.3686577992746) [utils.py:740]\n",
      "UserWarning:   (552.7, 556.0360000000001) does not lie in column range (43.670259786880294, 552.3686577992746) [utils.py:740]\n",
      "UserWarning:   (552.58, 555.5156800000001) does not lie in column range (43.430308154474005, 552.3686577992746) [utils.py:740]\n",
      "UserWarning:   (396.55, 399.48568) does not lie in column range (43.67119706933991, 396.16014510278114) [utils.py:740]\n",
      "UserWarning:   (552.7, 556.0360000000001) does not lie in column range (43.42937084340991, 552.2486819830714) [utils.py:740]\n",
      "UserWarning:   (518.14, 521.476) does not lie in column range (50.62979443772673, 517.815622732769) [utils.py:740]\n",
      "UserWarning:   (542.74, 546.076) does not lie in column range (47.030519951632414, 542.4106650544136) [utils.py:740]\n",
      "UserWarning:   (552.46, 555.796) does not lie in column range (43.42374697702539, 552.1287061668683) [utils.py:740]\n",
      "UserWarning:   (552.46, 555.3956800000001) does not lie in column range (43.42374697702539, 552.1287061668683) [utils.py:740]\n"
     ]
    },
    {
     "name": "stdout",
     "output_type": "stream",
     "text": [
      "<TableList n=37>\n",
      "url with pdf final:  https://moi.gov.af/sites/default/files/2020-11/Afghanistan%20Drug%20Price%20Monitoring%20July%20%202015.pdf\n"
     ]
    },
    {
     "name": "stderr",
     "output_type": "stream",
     "text": [
      "UserWarning:   (552.46, 555.3956800000001) does not lie in column range (43.430308154474005, 552.0087303506651) [utils.py:740]\n",
      "UserWarning:   (552.7, 555.6356800000001) does not lie in column range (43.430308154474005, 552.3686577992746) [utils.py:740]\n",
      "UserWarning:   (552.7, 556.0360000000001) does not lie in column range (43.670259786880294, 552.3686577992746) [utils.py:740]\n",
      "UserWarning:   (552.34, 555.2756800000001) does not lie in column range (43.430308154474005, 552.1287061668683) [utils.py:740]\n",
      "UserWarning:   (546.22, 549.556) does not lie in column range (43.670259786880294, 545.6500120918985) [utils.py:740]\n",
      "UserWarning:   (396.55, 399.48568) does not lie in column range (43.67119706933991, 396.16014510278114) [utils.py:740]\n",
      "UserWarning:   (548.26, 551.596) does not lie in column range (43.42937084340991, 547.809576783555) [utils.py:740]\n",
      "UserWarning:   (518.14, 521.476) does not lie in column range (50.62979443772673, 517.815622732769) [utils.py:740]\n",
      "UserWarning:   (520.66, 523.996) does not lie in column range (43.67119709794438, 520.3351148730351) [utils.py:740]\n",
      "UserWarning:   (549.82, 553.1560000000001) does not lie in column range (43.42374697702539, 549.3692623941959) [utils.py:740]\n",
      "UserWarning:   (552.46, 555.796) does not lie in column range (43.42374697702539, 552.1287061668683) [utils.py:740]\n",
      "UserWarning:   (552.46, 555.3956800000001) does not lie in column range (43.42374697702539, 552.1287061668683) [utils.py:740]\n"
     ]
    },
    {
     "name": "stdout",
     "output_type": "stream",
     "text": [
      "<TableList n=36>\n",
      "url with pdf final:  https://moi.gov.af/sites/default/files/2020-11/Afghanistan%20Drug%20Price%20Monitoring%20August%20%202015.pdf\n"
     ]
    },
    {
     "name": "stderr",
     "output_type": "stream",
     "text": [
      "UserWarning:   (552.46, 555.3956800000001) does not lie in column range (43.430308154474005, 552.0087303506651) [utils.py:740]\n",
      "UserWarning:   (552.7, 555.6356800000001) does not lie in column range (43.430308154474005, 552.3686577992746) [utils.py:740]\n",
      "UserWarning:   (552.7, 556.0360000000001) does not lie in column range (43.670259786880294, 552.3686577992746) [utils.py:740]\n",
      "UserWarning:   (552.46, 555.3956800000001) does not lie in column range (43.430308154474005, 552.1287061668683) [utils.py:740]\n",
      "UserWarning:   (550.54, 553.876) does not lie in column range (43.670259786880294, 549.9691414752117) [utils.py:740]\n",
      "UserWarning:   (356.95, 359.88568) does not lie in column range (43.67119706933991, 356.5681257557437) [utils.py:740]\n",
      "UserWarning:   (552.7, 556.0360000000001) does not lie in column range (43.42937084340991, 552.2486819830714) [utils.py:740]\n",
      "UserWarning:   (529.3, 532.636) does not lie in column range (50.38984234764902, 528.8533978234584) [utils.py:740]\n",
      "UserWarning:   (552.22, 555.556) does not lie in column range (43.42374697702539, 551.7687787182588) [utils.py:740]\n",
      "UserWarning:   (552.34, 555.676) does not lie in column range (43.42374697702539, 552.1287061668683) [utils.py:740]\n",
      "UserWarning:   (552.34, 555.2756800000001) does not lie in column range (43.42374697702539, 552.1287061668683) [utils.py:740]\n"
     ]
    },
    {
     "name": "stdout",
     "output_type": "stream",
     "text": [
      "<TableList n=37>\n",
      "url with pdf final:  https://moi.gov.af/sites/default/files/2020-11/Afghanistan%20Drug%20Price%20Monitoring%20September%20%202015.pdf\n"
     ]
    },
    {
     "name": "stderr",
     "output_type": "stream",
     "text": [
      "UserWarning:   (552.46, 555.3956800000001) does not lie in column range (43.430308154474005, 552.0087303506651) [utils.py:740]\n",
      "UserWarning:   (552.7, 555.6356800000001) does not lie in column range (43.430308154474005, 552.3686577992746) [utils.py:740]\n",
      "UserWarning:   (552.7, 556.0360000000001) does not lie in column range (43.670259786880294, 552.3686577992746) [utils.py:740]\n",
      "UserWarning:   (552.34, 555.2756800000001) does not lie in column range (43.430308154474005, 552.0087303506651) [utils.py:740]\n",
      "UserWarning:   (512.02, 515.356) does not lie in column range (43.670259786880294, 511.5768802902056) [utils.py:740]\n",
      "UserWarning:   (289.85, 292.78568) does not lie in column range (43.43124545123585, 289.50164449818624) [utils.py:740]\n",
      "UserWarning:   (552.7, 556.0360000000001) does not lie in column range (43.42937084340991, 552.2486819830714) [utils.py:740]\n",
      "UserWarning:   (524.74, 528.076) does not lie in column range (50.38984234764902, 524.2943168077388) [utils.py:740]\n",
      "UserWarning:   (552.82, 556.1560000000001) does not lie in column range (43.42374697702539, 552.6086094316809) [utils.py:740]\n",
      "UserWarning:   (552.34, 555.676) does not lie in column range (43.42374697702539, 552.1287061668683) [utils.py:740]\n",
      "UserWarning:   (552.34, 555.2756800000001) does not lie in column range (43.42374697702539, 552.1287061668683) [utils.py:740]\n"
     ]
    },
    {
     "name": "stdout",
     "output_type": "stream",
     "text": [
      "<TableList n=37>\n",
      "url with pdf final:  https://moi.gov.af/sites/default/files/2020-11/Afghanistan%20Drug%20Price%20Monitoring%20October%20%202015.pdf\n"
     ]
    },
    {
     "name": "stderr",
     "output_type": "stream",
     "text": [
      "UserWarning:   (552.46, 555.3956800000001) does not lie in column range (43.430308154474005, 552.0087303506651) [utils.py:740]\n",
      "UserWarning:   (552.46, 555.52912) does not lie in column range (43.430308154474005, 552.0087303506651) [utils.py:740]\n",
      "UserWarning:   (552.7, 555.6356800000001) does not lie in column range (43.430308154474005, 552.3686577992746) [utils.py:740]\n",
      "UserWarning:   (552.7, 556.0360000000001) does not lie in column range (43.670259786880294, 552.3686577992746) [utils.py:740]\n",
      "UserWarning:   (552.22, 555.1556800000001) does not lie in column range (43.430308154474005, 551.7687787182588) [utils.py:740]\n",
      "UserWarning:   (512.02, 515.356) does not lie in column range (43.670259786880294, 511.5768802902056) [utils.py:740]\n",
      "UserWarning:   (303.89, 306.82568) does not lie in column range (43.43124545123585, 303.5388149939541) [utils.py:740]\n",
      "UserWarning:   (552.7, 556.0360000000001) does not lie in column range (43.42937084340991, 552.2486819830714) [utils.py:740]\n",
      "UserWarning:   (517.3, 520.636) does not lie in column range (50.38984234764902, 517.0957678355503) [utils.py:740]\n",
      "UserWarning:   (552.82, 556.1560000000001) does not lie in column range (43.42374697702539, 552.3686577992746) [utils.py:740]\n",
      "UserWarning:   (552.34, 555.676) does not lie in column range (43.42374697702539, 552.1287061668683) [utils.py:740]\n",
      "UserWarning:   (552.34, 555.2756800000001) does not lie in column range (43.42374697702539, 552.1287061668683) [utils.py:740]\n"
     ]
    },
    {
     "name": "stdout",
     "output_type": "stream",
     "text": [
      "<TableList n=37>\n",
      "url with pdf final:  https://moi.gov.af/sites/default/files/2020-11/Afghanistan%20Drug%20Price%20Monitoring%20November%20%202015.pdf\n"
     ]
    },
    {
     "name": "stderr",
     "output_type": "stream",
     "text": [
      "UserWarning:   (552.46, 555.3956800000001) does not lie in column range (43.430308154474005, 552.0087303506651) [utils.py:740]\n",
      "UserWarning:   (552.7, 555.6356800000001) does not lie in column range (43.430308154474005, 552.3686577992746) [utils.py:740]\n",
      "UserWarning:   (552.7, 556.0360000000001) does not lie in column range (43.670259786880294, 552.3686577992746) [utils.py:740]\n",
      "UserWarning:   (552.22, 555.1556800000001) does not lie in column range (43.430308154474005, 551.7687787182588) [utils.py:740]\n",
      "UserWarning:   (512.02, 515.356) does not lie in column range (43.670259786880294, 511.5768802902056) [utils.py:740]\n",
      "UserWarning:   (285.89, 288.82568) does not lie in column range (43.43124545123585, 285.6624183796856) [utils.py:740]\n",
      "UserWarning:   (552.7, 556.0360000000001) does not lie in column range (43.42937084340991, 552.2486819830714) [utils.py:740]\n",
      "UserWarning:   (520.3, 523.636) does not lie in column range (50.38984234764902, 519.9751874244257) [utils.py:740]\n",
      "UserWarning:   (552.46, 555.796) does not lie in column range (43.42374697702539, 552.0087303506651) [utils.py:740]\n",
      "UserWarning:   (552.34, 555.676) does not lie in column range (43.42374697702539, 552.1287061668683) [utils.py:740]\n",
      "UserWarning:   (552.34, 555.2756800000001) does not lie in column range (43.42374697702539, 552.1287061668683) [utils.py:740]\n"
     ]
    },
    {
     "name": "stdout",
     "output_type": "stream",
     "text": [
      "<TableList n=36>\n",
      "url with pdf final:  https://moi.gov.af/sites/default/files/2020-11/Afghanistan%20Drug%20Price%20Monitoring%20December%20%202015.pdf\n"
     ]
    },
    {
     "name": "stderr",
     "output_type": "stream",
     "text": [
      "UserWarning:   (552.46, 555.3956800000001) does not lie in column range (43.430308154474005, 552.0087303506651) [utils.py:740]\n",
      "UserWarning:   (552.46, 555.52912) does not lie in column range (43.430308154474005, 552.0087303506651) [utils.py:740]\n",
      "UserWarning:   (552.7, 555.6356800000001) does not lie in column range (43.430308154474005, 552.3686577992746) [utils.py:740]\n",
      "UserWarning:   (552.7, 556.0360000000001) does not lie in column range (43.670259786880294, 552.3686577992746) [utils.py:740]\n",
      "UserWarning:   (552.46, 555.3956800000001) does not lie in column range (43.430308154474005, 552.1287061668683) [utils.py:740]\n",
      "UserWarning:   (525.22, 528.556) does not lie in column range (43.670259786880294, 524.7742200725514) [utils.py:740]\n",
      "UserWarning:   (302.57, 305.50568) does not lie in column range (43.43124545123585, 302.2190810157195) [utils.py:740]\n",
      "UserWarning:   (552.7, 556.0360000000001) does not lie in column range (43.42937084340991, 552.2486819830714) [utils.py:740]\n",
      "UserWarning:   (529.3, 532.636) does not lie in column range (50.38984234764902, 528.8533978234584) [utils.py:740]\n",
      "UserWarning:   (552.58, 555.916) does not lie in column range (43.42374697702539, 552.1287061668683) [utils.py:740]\n",
      "UserWarning:   (552.34, 555.676) does not lie in column range (43.42374697702539, 552.1287061668683) [utils.py:740]\n",
      "UserWarning:   (552.34, 555.2756800000001) does not lie in column range (43.42374697702539, 552.1287061668683) [utils.py:740]\n"
     ]
    },
    {
     "name": "stdout",
     "output_type": "stream",
     "text": [
      "<TableList n=36>\n",
      "url with pdf final:  https://moi.gov.af/sites/default/files/2020-11/Afghanistan%20Drug%20Price%20Monitoring%20January%202015_0.pdf\n"
     ]
    },
    {
     "name": "stderr",
     "output_type": "stream",
     "text": [
      "UserWarning:   (552.48, 555.4156800000001) does not lie in column range (43.430308154474005, 552.0087303506651) [utils.py:740]\n",
      "UserWarning:   (552.36, 555.2956800000001) does not lie in column range (43.67119709794438, 552.0087303506651) [utils.py:740]\n",
      "UserWarning:   (548.16, 551.496) does not lie in column range (43.91114873035067, 547.809576783555) [utils.py:740]\n",
      "UserWarning:   (552.0, 554.93568) does not lie in column range (43.67119709794438, 551.6488029020556) [utils.py:740]\n",
      "UserWarning:   (379.87, 383.206) does not lie in column range (50.62979443772673, 379.2435550181379) [utils.py:740]\n",
      "UserWarning:   (544.56, 547.896) does not lie in column range (47.030519951632414, 544.2103022974607) [utils.py:740]\n",
      "UserWarning:   (529.42, 532.756) does not lie in column range (50.62979443772673, 528.8533978234584) [utils.py:740]\n",
      "UserWarning:   (529.42, 532.756) does not lie in column range (50.38984280532044, 528.9733736396615) [utils.py:740]\n",
      "UserWarning:   (546.12, 549.456) does not lie in column range (47.030519951632414, 545.7699879081016) [utils.py:740]\n",
      "UserWarning:   (541.08, 544.416) does not lie in column range (43.67119709794438, 540.7310036275696) [utils.py:740]\n",
      "UserWarning:   (540.36, 543.2956800000001) does not lie in column range (43.67119709794438, 540.0111487303507) [utils.py:740]\n"
     ]
    },
    {
     "name": "stdout",
     "output_type": "stream",
     "text": [
      "<TableList n=38>\n",
      "url with pdf final:  https://moi.gov.af/sites/default/files/2020-11/Afghanistan%20Drug%20Price%20Monitoring%20February%20%202015_0.pdf\n"
     ]
    },
    {
     "name": "stderr",
     "output_type": "stream",
     "text": [
      "UserWarning:   (552.46, 555.3956800000001) does not lie in column range (43.430308154474005, 552.0087303506651) [utils.py:740]\n",
      "UserWarning:   (552.7, 555.6356800000001) does not lie in column range (43.430308154474005, 552.3686577992746) [utils.py:740]\n",
      "UserWarning:   (552.7, 556.0360000000001) does not lie in column range (43.670259786880294, 552.3686577992746) [utils.py:740]\n",
      "UserWarning:   (552.82, 555.7556800000001) does not lie in column range (43.430308154474005, 552.6086094316809) [utils.py:740]\n",
      "UserWarning:   (547.18, 550.516) does not lie in column range (43.670259786880294, 546.6098186215236) [utils.py:740]\n",
      "UserWarning:   (396.55, 399.48568) does not lie in column range (43.67119706933991, 396.16014510278114) [utils.py:740]\n",
      "UserWarning:   (533.62, 536.956) does not lie in column range (50.38984234764902, 533.1725272067715) [utils.py:740]\n",
      "UserWarning:   (552.82, 556.1560000000001) does not lie in column range (43.41624848851269, 552.6086094316809) [utils.py:740]\n",
      "UserWarning:   (552.58, 555.916) does not lie in column range (43.42374697702539, 552.2486819830714) [utils.py:740]\n",
      "UserWarning:   (552.46, 555.796) does not lie in column range (43.42374697702539, 552.1287061668683) [utils.py:740]\n",
      "UserWarning:   (552.46, 555.3956800000001) does not lie in column range (43.42374697702539, 552.1287061668683) [utils.py:740]\n"
     ]
    },
    {
     "name": "stdout",
     "output_type": "stream",
     "text": [
      "<TableList n=38>\n",
      "url with pdf final:  https://moi.gov.af/sites/default/files/2020-11/Afghanistan%20Drug%20Price%20Monitoring%20March%20%202015_0.pdf\n"
     ]
    },
    {
     "name": "stderr",
     "output_type": "stream",
     "text": [
      "UserWarning:   (552.46, 555.3956800000001) does not lie in column range (43.430308154474005, 552.0087303506651) [utils.py:740]\n",
      "UserWarning:   (552.7, 555.6356800000001) does not lie in column range (43.430308154474005, 552.3686577992746) [utils.py:740]\n",
      "UserWarning:   (552.7, 556.0360000000001) does not lie in column range (43.670259786880294, 552.3686577992746) [utils.py:740]\n",
      "UserWarning:   (552.82, 555.7556800000001) does not lie in column range (43.430308154474005, 552.4886336154777) [utils.py:740]\n",
      "UserWarning:   (550.9, 554.236) does not lie in column range (43.670259786880294, 550.4490447400242) [utils.py:740]\n",
      "UserWarning:   (396.55, 399.48568) does not lie in column range (43.67119706933991, 396.16014510278114) [utils.py:740]\n",
      "UserWarning:   (552.7, 556.0360000000001) does not lie in column range (43.42937084340991, 552.2486819830714) [utils.py:740]\n",
      "UserWarning:   (538.42, 541.756) does not lie in column range (50.38984234764902, 537.9715598548974) [utils.py:740]\n",
      "UserWarning:   (552.46, 555.796) does not lie in column range (43.41624848851269, 552.1287061668683) [utils.py:740]\n",
      "UserWarning:   (552.58, 555.916) does not lie in column range (43.42374697702539, 552.3686577992746) [utils.py:740]\n",
      "UserWarning:   (552.46, 555.796) does not lie in column range (43.42374697702539, 552.1287061668683) [utils.py:740]\n",
      "UserWarning:   (552.46, 555.3956800000001) does not lie in column range (43.42374697702539, 552.1287061668683) [utils.py:740]\n"
     ]
    },
    {
     "name": "stdout",
     "output_type": "stream",
     "text": [
      "<TableList n=38>\n",
      "url with pdf final:  https://moi.gov.af/sites/default/files/2020-11/Afghanistan%20Drug%20Price%20Monitoring%20April%20%202015_0.pdf\n"
     ]
    },
    {
     "name": "stderr",
     "output_type": "stream",
     "text": [
      "UserWarning:   (552.46, 555.3956800000001) does not lie in column range (43.430308154474005, 552.0087303506651) [utils.py:740]\n",
      "UserWarning:   (552.7, 555.6356800000001) does not lie in column range (43.430308154474005, 552.3686577992746) [utils.py:740]\n",
      "UserWarning:   (552.7, 556.0360000000001) does not lie in column range (43.670259786880294, 552.3686577992746) [utils.py:740]\n",
      "UserWarning:   (552.82, 555.7556800000001) does not lie in column range (43.430308154474005, 552.6086094316809) [utils.py:740]\n",
      "UserWarning:   (550.54, 553.876) does not lie in column range (43.670259786880294, 549.9691414752117) [utils.py:740]\n",
      "UserWarning:   (396.55, 399.48568) does not lie in column range (43.67119706933991, 396.16014510278114) [utils.py:740]\n",
      "UserWarning:   (554.02, 557.356) does not lie in column range (43.42937084340991, 553.568415961306) [utils.py:740]\n",
      "UserWarning:   (524.98, 528.316) does not lie in column range (50.38984234764902, 524.5342684401451) [utils.py:740]\n",
      "UserWarning:   (550.66, 553.996) does not lie in column range (50.13489419588876, 550.4490447400242) [utils.py:740]\n",
      "UserWarning:   (43.2, 46.536) does not lie in column range (46.78306983071343, 548.6494074969771) [utils.py:740]\n",
      "UserWarning:   (548.98, 552.316) does not lie in column range (46.78306983071343, 548.6494074969771) [utils.py:740]\n",
      "UserWarning:   (552.46, 555.796) does not lie in column range (43.42374697702539, 552.1287061668683) [utils.py:740]\n",
      "UserWarning:   (552.46, 555.3956800000001) does not lie in column range (43.42374697702539, 552.1287061668683) [utils.py:740]\n"
     ]
    },
    {
     "name": "stdout",
     "output_type": "stream",
     "text": [
      "<TableList n=38>\n",
      "url with pdf final:  https://moi.gov.af/sites/default/files/2020-11/Afghanistan%20Drug%20Price%20Monitoring%20May%20%202015_0.pdf\n"
     ]
    },
    {
     "name": "stderr",
     "output_type": "stream",
     "text": [
      "UserWarning:   (552.46, 555.3956800000001) does not lie in column range (43.430308154474005, 552.0087303506651) [utils.py:740]\n",
      "UserWarning:   (552.7, 555.6356800000001) does not lie in column range (43.430308154474005, 552.3686577992746) [utils.py:740]\n",
      "UserWarning:   (552.7, 556.0360000000001) does not lie in column range (43.670259786880294, 552.3686577992746) [utils.py:740]\n",
      "UserWarning:   (552.34, 555.2756800000001) does not lie in column range (43.430308154474005, 552.1287061668683) [utils.py:740]\n",
      "UserWarning:   (544.42, 547.756) does not lie in column range (43.670259786880294, 543.9703506650544) [utils.py:740]\n",
      "UserWarning:   (396.43, 399.36568) does not lie in column range (43.91114873035067, 395.9201934703749) [utils.py:740]\n",
      "UserWarning:   (552.7, 556.0360000000001) does not lie in column range (43.42937084340991, 552.2486819830714) [utils.py:740]\n",
      "UserWarning:   (495.58, 498.916) does not lie in column range (50.38984234764902, 495.26016928657805) [utils.py:740]\n",
      "UserWarning:   (552.7, 556.0360000000001) does not lie in column range (43.42374697702539, 552.3686577992746) [utils.py:740]\n",
      "UserWarning:   (552.22, 555.556) does not lie in column range (43.42374697702539, 551.8887545344619) [utils.py:740]\n",
      "UserWarning:   (552.22, 555.1556800000001) does not lie in column range (43.42374697702539, 551.8887545344619) [utils.py:740]\n"
     ]
    },
    {
     "name": "stdout",
     "output_type": "stream",
     "text": [
      "<TableList n=36>\n",
      "url with pdf final:  https://moi.gov.af/sites/default/files/2020-11/Afghanistan%20Drug%20Price%20Monitoring%20June%20%202015_0.pdf\n"
     ]
    },
    {
     "name": "stderr",
     "output_type": "stream",
     "text": [
      "UserWarning:   (552.46, 555.3956800000001) does not lie in column range (43.430308154474005, 552.0087303506651) [utils.py:740]\n",
      "UserWarning:   (552.7, 555.6356800000001) does not lie in column range (43.430308154474005, 552.3686577992746) [utils.py:740]\n",
      "UserWarning:   (552.7, 556.0360000000001) does not lie in column range (43.670259786880294, 552.3686577992746) [utils.py:740]\n",
      "UserWarning:   (552.58, 555.5156800000001) does not lie in column range (43.430308154474005, 552.3686577992746) [utils.py:740]\n",
      "UserWarning:   (396.55, 399.48568) does not lie in column range (43.67119706933991, 396.16014510278114) [utils.py:740]\n",
      "UserWarning:   (552.7, 556.0360000000001) does not lie in column range (43.42937084340991, 552.2486819830714) [utils.py:740]\n",
      "UserWarning:   (518.14, 521.476) does not lie in column range (50.62979443772673, 517.815622732769) [utils.py:740]\n",
      "UserWarning:   (542.74, 546.076) does not lie in column range (47.030519951632414, 542.4106650544136) [utils.py:740]\n",
      "UserWarning:   (552.46, 555.796) does not lie in column range (43.42374697702539, 552.1287061668683) [utils.py:740]\n",
      "UserWarning:   (552.46, 555.3956800000001) does not lie in column range (43.42374697702539, 552.1287061668683) [utils.py:740]\n"
     ]
    },
    {
     "name": "stdout",
     "output_type": "stream",
     "text": [
      "<TableList n=37>\n",
      "url with pdf final:  https://moi.gov.af/sites/default/files/2020-11/Afghanistan%20Drug%20Price%20Monitoring%20July%20%202015_0.pdf\n"
     ]
    },
    {
     "name": "stderr",
     "output_type": "stream",
     "text": [
      "UserWarning:   (552.46, 555.3956800000001) does not lie in column range (43.430308154474005, 552.0087303506651) [utils.py:740]\n",
      "UserWarning:   (552.7, 555.6356800000001) does not lie in column range (43.430308154474005, 552.3686577992746) [utils.py:740]\n",
      "UserWarning:   (552.7, 556.0360000000001) does not lie in column range (43.670259786880294, 552.3686577992746) [utils.py:740]\n",
      "UserWarning:   (552.34, 555.2756800000001) does not lie in column range (43.430308154474005, 552.1287061668683) [utils.py:740]\n",
      "UserWarning:   (546.22, 549.556) does not lie in column range (43.670259786880294, 545.6500120918985) [utils.py:740]\n",
      "UserWarning:   (396.55, 399.48568) does not lie in column range (43.67119706933991, 396.16014510278114) [utils.py:740]\n",
      "UserWarning:   (548.26, 551.596) does not lie in column range (43.42937084340991, 547.809576783555) [utils.py:740]\n",
      "UserWarning:   (518.14, 521.476) does not lie in column range (50.62979443772673, 517.815622732769) [utils.py:740]\n",
      "UserWarning:   (520.66, 523.996) does not lie in column range (43.67119709794438, 520.3351148730351) [utils.py:740]\n",
      "UserWarning:   (549.82, 553.1560000000001) does not lie in column range (43.42374697702539, 549.3692623941959) [utils.py:740]\n",
      "UserWarning:   (552.46, 555.796) does not lie in column range (43.42374697702539, 552.1287061668683) [utils.py:740]\n",
      "UserWarning:   (552.46, 555.3956800000001) does not lie in column range (43.42374697702539, 552.1287061668683) [utils.py:740]\n"
     ]
    },
    {
     "name": "stdout",
     "output_type": "stream",
     "text": [
      "<TableList n=36>\n",
      "url with pdf final:  https://moi.gov.af/sites/default/files/2020-11/Afghanistan%20Drug%20Price%20Monitoring%20August%20%202015_0.pdf\n"
     ]
    },
    {
     "name": "stderr",
     "output_type": "stream",
     "text": [
      "UserWarning:   (552.46, 555.3956800000001) does not lie in column range (43.430308154474005, 552.0087303506651) [utils.py:740]\n",
      "UserWarning:   (552.7, 555.6356800000001) does not lie in column range (43.430308154474005, 552.3686577992746) [utils.py:740]\n",
      "UserWarning:   (552.7, 556.0360000000001) does not lie in column range (43.670259786880294, 552.3686577992746) [utils.py:740]\n",
      "UserWarning:   (552.46, 555.3956800000001) does not lie in column range (43.430308154474005, 552.1287061668683) [utils.py:740]\n",
      "UserWarning:   (550.54, 553.876) does not lie in column range (43.670259786880294, 549.9691414752117) [utils.py:740]\n",
      "UserWarning:   (356.95, 359.88568) does not lie in column range (43.67119706933991, 356.5681257557437) [utils.py:740]\n",
      "UserWarning:   (552.7, 556.0360000000001) does not lie in column range (43.42937084340991, 552.2486819830714) [utils.py:740]\n",
      "UserWarning:   (529.3, 532.636) does not lie in column range (50.38984234764902, 528.8533978234584) [utils.py:740]\n",
      "UserWarning:   (552.22, 555.556) does not lie in column range (43.42374697702539, 551.7687787182588) [utils.py:740]\n",
      "UserWarning:   (552.34, 555.676) does not lie in column range (43.42374697702539, 552.1287061668683) [utils.py:740]\n",
      "UserWarning:   (552.34, 555.2756800000001) does not lie in column range (43.42374697702539, 552.1287061668683) [utils.py:740]\n"
     ]
    },
    {
     "name": "stdout",
     "output_type": "stream",
     "text": [
      "<TableList n=37>\n",
      "url with pdf final:  https://moi.gov.af/sites/default/files/2020-11/Afghanistan%20Drug%20Price%20Monitoring%20September%20%202015_0.pdf\n"
     ]
    },
    {
     "name": "stderr",
     "output_type": "stream",
     "text": [
      "UserWarning:   (552.46, 555.3956800000001) does not lie in column range (43.430308154474005, 552.0087303506651) [utils.py:740]\n",
      "UserWarning:   (552.7, 555.6356800000001) does not lie in column range (43.430308154474005, 552.3686577992746) [utils.py:740]\n",
      "UserWarning:   (552.7, 556.0360000000001) does not lie in column range (43.670259786880294, 552.3686577992746) [utils.py:740]\n",
      "UserWarning:   (552.34, 555.2756800000001) does not lie in column range (43.430308154474005, 552.0087303506651) [utils.py:740]\n",
      "UserWarning:   (512.02, 515.356) does not lie in column range (43.670259786880294, 511.5768802902056) [utils.py:740]\n",
      "UserWarning:   (289.85, 292.78568) does not lie in column range (43.43124545123585, 289.50164449818624) [utils.py:740]\n",
      "UserWarning:   (552.7, 556.0360000000001) does not lie in column range (43.42937084340991, 552.2486819830714) [utils.py:740]\n",
      "UserWarning:   (524.74, 528.076) does not lie in column range (50.38984234764902, 524.2943168077388) [utils.py:740]\n",
      "UserWarning:   (552.82, 556.1560000000001) does not lie in column range (43.42374697702539, 552.6086094316809) [utils.py:740]\n",
      "UserWarning:   (552.34, 555.676) does not lie in column range (43.42374697702539, 552.1287061668683) [utils.py:740]\n",
      "UserWarning:   (552.34, 555.2756800000001) does not lie in column range (43.42374697702539, 552.1287061668683) [utils.py:740]\n"
     ]
    },
    {
     "name": "stdout",
     "output_type": "stream",
     "text": [
      "<TableList n=37>\n",
      "url with pdf final:  https://moi.gov.af/sites/default/files/2020-11/Afghanistan%20Drug%20Price%20Monitoring%20October%20%202015_0.pdf\n"
     ]
    },
    {
     "name": "stderr",
     "output_type": "stream",
     "text": [
      "UserWarning:   (552.46, 555.3956800000001) does not lie in column range (43.430308154474005, 552.0087303506651) [utils.py:740]\n",
      "UserWarning:   (552.46, 555.52912) does not lie in column range (43.430308154474005, 552.0087303506651) [utils.py:740]\n",
      "UserWarning:   (552.7, 555.6356800000001) does not lie in column range (43.430308154474005, 552.3686577992746) [utils.py:740]\n",
      "UserWarning:   (552.7, 556.0360000000001) does not lie in column range (43.670259786880294, 552.3686577992746) [utils.py:740]\n",
      "UserWarning:   (552.22, 555.1556800000001) does not lie in column range (43.430308154474005, 551.7687787182588) [utils.py:740]\n",
      "UserWarning:   (512.02, 515.356) does not lie in column range (43.670259786880294, 511.5768802902056) [utils.py:740]\n",
      "UserWarning:   (303.89, 306.82568) does not lie in column range (43.43124545123585, 303.5388149939541) [utils.py:740]\n",
      "UserWarning:   (552.7, 556.0360000000001) does not lie in column range (43.42937084340991, 552.2486819830714) [utils.py:740]\n",
      "UserWarning:   (517.3, 520.636) does not lie in column range (50.38984234764902, 517.0957678355503) [utils.py:740]\n",
      "UserWarning:   (552.82, 556.1560000000001) does not lie in column range (43.42374697702539, 552.3686577992746) [utils.py:740]\n",
      "UserWarning:   (552.34, 555.676) does not lie in column range (43.42374697702539, 552.1287061668683) [utils.py:740]\n",
      "UserWarning:   (552.34, 555.2756800000001) does not lie in column range (43.42374697702539, 552.1287061668683) [utils.py:740]\n"
     ]
    },
    {
     "name": "stdout",
     "output_type": "stream",
     "text": [
      "<TableList n=37>\n",
      "url with pdf final:  https://moi.gov.af/sites/default/files/2020-11/Afghanistan%20Drug%20Price%20Monitoring%20November%20%202015_0.pdf\n"
     ]
    },
    {
     "name": "stderr",
     "output_type": "stream",
     "text": [
      "UserWarning:   (552.46, 555.3956800000001) does not lie in column range (43.430308154474005, 552.0087303506651) [utils.py:740]\n",
      "UserWarning:   (552.7, 555.6356800000001) does not lie in column range (43.430308154474005, 552.3686577992746) [utils.py:740]\n",
      "UserWarning:   (552.7, 556.0360000000001) does not lie in column range (43.670259786880294, 552.3686577992746) [utils.py:740]\n",
      "UserWarning:   (552.22, 555.1556800000001) does not lie in column range (43.430308154474005, 551.7687787182588) [utils.py:740]\n",
      "UserWarning:   (512.02, 515.356) does not lie in column range (43.670259786880294, 511.5768802902056) [utils.py:740]\n",
      "UserWarning:   (285.89, 288.82568) does not lie in column range (43.43124545123585, 285.6624183796856) [utils.py:740]\n",
      "UserWarning:   (552.7, 556.0360000000001) does not lie in column range (43.42937084340991, 552.2486819830714) [utils.py:740]\n",
      "UserWarning:   (520.3, 523.636) does not lie in column range (50.38984234764902, 519.9751874244257) [utils.py:740]\n",
      "UserWarning:   (552.46, 555.796) does not lie in column range (43.42374697702539, 552.0087303506651) [utils.py:740]\n",
      "UserWarning:   (552.34, 555.676) does not lie in column range (43.42374697702539, 552.1287061668683) [utils.py:740]\n",
      "UserWarning:   (552.34, 555.2756800000001) does not lie in column range (43.42374697702539, 552.1287061668683) [utils.py:740]\n"
     ]
    },
    {
     "name": "stdout",
     "output_type": "stream",
     "text": [
      "<TableList n=36>\n",
      "url with pdf final:  https://moi.gov.af/sites/default/files/2020-11/Afghanistan%20Drug%20Price%20Monitoring%20December%20%202015_0.pdf\n"
     ]
    },
    {
     "name": "stderr",
     "output_type": "stream",
     "text": [
      "UserWarning:   (552.46, 555.3956800000001) does not lie in column range (43.430308154474005, 552.0087303506651) [utils.py:740]\n",
      "UserWarning:   (552.46, 555.52912) does not lie in column range (43.430308154474005, 552.0087303506651) [utils.py:740]\n",
      "UserWarning:   (552.7, 555.6356800000001) does not lie in column range (43.430308154474005, 552.3686577992746) [utils.py:740]\n",
      "UserWarning:   (552.7, 556.0360000000001) does not lie in column range (43.670259786880294, 552.3686577992746) [utils.py:740]\n",
      "UserWarning:   (552.46, 555.3956800000001) does not lie in column range (43.430308154474005, 552.1287061668683) [utils.py:740]\n",
      "UserWarning:   (525.22, 528.556) does not lie in column range (43.670259786880294, 524.7742200725514) [utils.py:740]\n",
      "UserWarning:   (302.57, 305.50568) does not lie in column range (43.43124545123585, 302.2190810157195) [utils.py:740]\n",
      "UserWarning:   (552.7, 556.0360000000001) does not lie in column range (43.42937084340991, 552.2486819830714) [utils.py:740]\n",
      "UserWarning:   (529.3, 532.636) does not lie in column range (50.38984234764902, 528.8533978234584) [utils.py:740]\n",
      "UserWarning:   (552.58, 555.916) does not lie in column range (43.42374697702539, 552.1287061668683) [utils.py:740]\n",
      "UserWarning:   (552.34, 555.676) does not lie in column range (43.42374697702539, 552.1287061668683) [utils.py:740]\n",
      "UserWarning:   (552.34, 555.2756800000001) does not lie in column range (43.42374697702539, 552.1287061668683) [utils.py:740]\n"
     ]
    },
    {
     "name": "stdout",
     "output_type": "stream",
     "text": [
      "<TableList n=36>\n",
      "url with pdf final:  https://moi.gov.af/sites/default/files/2020-11/Afghanistan%20Drug%20Price%20Monitoring%20January%20%202017.pdf\n"
     ]
    },
    {
     "name": "stderr",
     "output_type": "stream",
     "text": [
      "UserWarning:   (548.26, 551.26) does not lie in column range (42.710453257255146, 547.809576783555) [utils.py:740]\n",
      "UserWarning:   (552.58, 555.58) does not lie in column range (42.950404889661435, 552.2486819830714) [utils.py:740]\n",
      "UserWarning:   (555.94, 558.7) does not lie in column range (42.710453257255146, 555.6080048367594) [utils.py:740]\n",
      "UserWarning:   (552.46, 555.22) does not lie in column range (42.710453257255146, 552.0087303506651) [utils.py:740]\n",
      "UserWarning:   (552.58, 555.58) does not lie in column range (42.94946757859735, 552.1287061668683) [utils.py:740]\n",
      "UserWarning:   (552.7, 555.34) does not lie in column range (42.710453257255146, 552.2486819830714) [utils.py:740]\n",
      "UserWarning:   (537.46, 540.46) does not lie in column range (58.008307134220075, 537.0117533252721) [utils.py:740]\n",
      "UserWarning:   (552.58, 555.916) does not lie in column range (42.703892079806536, 552.2486819830714) [utils.py:740]\n",
      "UserWarning:   (552.82, 556.1560000000001) does not lie in column range (42.710453257255146, 552.4886336154777) [utils.py:740]\n",
      "UserWarning:   (546.22, 549.22) does not lie in column range (49.18821002116083, 545.7699879081016) [utils.py:740]\n"
     ]
    },
    {
     "name": "stdout",
     "output_type": "stream",
     "text": [
      "<TableList n=22>\n",
      "url with pdf final:  https://moi.gov.af/sites/default/files/2020-11/Afghanistan%20Drug%20Price%20Monitoring%20February%20%202017.pdf\n"
     ]
    },
    {
     "name": "stderr",
     "output_type": "stream",
     "text": [
      "UserWarning:   (552.36, 555.36) does not lie in column range (42.950404889661435, 551.7687787182588) [utils.py:740]\n",
      "UserWarning:   (532.56, 535.3199999999999) does not lie in column range (62.807339782345835, 532.0927448609432) [utils.py:740]\n",
      "UserWarning:   (552.0, 554.76) does not lie in column range (42.710453257255146, 551.2888754534463) [utils.py:740]\n",
      "UserWarning:   (552.36, 555.12) does not lie in column range (42.710453257255146, 551.7687787182588) [utils.py:740]\n",
      "UserWarning:   (552.6, 555.24) does not lie in column range (42.710453257255146, 552.0087303506651) [utils.py:740]\n",
      "UserWarning:   (524.87724, 527.36724) does not lie in column range (70.48579201934704, 524.2943168077388) [utils.py:740]\n"
     ]
    },
    {
     "name": "stdout",
     "output_type": "stream",
     "text": [
      "<TableList n=23>\n",
      "url with pdf final:  https://moi.gov.af/sites/default/files/2020-11/Afghanistan%20Drug%20Price%20Monitoring%20March%20%202017.pdf\n"
     ]
    },
    {
     "name": "stderr",
     "output_type": "stream",
     "text": [
      "UserWarning:   (552.58, 555.916) does not lie in column range (42.710453257255146, 552.2486819830714) [utils.py:740]\n",
      "UserWarning:   (552.46, 555.46) does not lie in column range (42.950404889661435, 552.0087303506651) [utils.py:740]\n",
      "UserWarning:   (556.9, 559.66) does not lie in column range (42.651402660217656, 556.5678113663846) [utils.py:740]\n",
      "UserWarning:   (552.1, 554.86) does not lie in column range (42.710453257255146, 551.7687787182588) [utils.py:740]\n",
      "UserWarning:   (552.46, 555.22) does not lie in column range (42.710453257255146, 552.0087303506651) [utils.py:740]\n",
      "UserWarning:   (552.58, 555.58) does not lie in column range (42.710921912787185, 552.2486819830714) [utils.py:740]\n",
      "UserWarning:   (552.7, 555.34) does not lie in column range (42.710453257255146, 552.2486819830714) [utils.py:740]\n",
      "UserWarning:   (43.2, 46.536) does not lie in column range (46.73058041112455, 551.7687787182588) [utils.py:740]\n",
      "UserWarning:   (552.22, 555.22) does not lie in column range (46.73058041112455, 551.7687787182588) [utils.py:740]\n",
      "UserWarning:   (553.78, 556.27) does not lie in column range (42.651402660217656, 553.568415961306) [utils.py:740]\n",
      "UserWarning:   (528.1, 531.1) does not lie in column range (42.94946757859735, 527.8935912938332) [utils.py:740]\n",
      "UserWarning:   (536.02, 539.356) does not lie in column range (63.58718258766627, 535.5720435308344) [utils.py:740]\n",
      "UserWarning:   (59.4, 62.736) does not lie in column range (62.867327690447404, 202.39920193470377) [utils.py:740]\n",
      "UserWarning:   (549.58, 552.58) does not lie in column range (45.950737605804115, 549.1293107617896) [utils.py:740]\n",
      "UserWarning:   (552.46, 555.796) does not lie in column range (42.703892079806536, 552.1287061668683) [utils.py:740]\n",
      "UserWarning:   (552.7, 556.0360000000001) does not lie in column range (42.710453257255146, 552.3686577992746) [utils.py:740]\n",
      "UserWarning:   (423.67, 427.00600000000003) does not lie in column range (42.711390554017, 423.51463119709797) [utils.py:740]\n",
      "UserWarning:   (552.82, 555.82) does not lie in column range (42.70951594619106, 552.4886336154777) [utils.py:740]\n"
     ]
    },
    {
     "name": "stdout",
     "output_type": "stream",
     "text": [
      "<TableList n=25>\n",
      "url with pdf final:  https://moi.gov.af/sites/default/files/2020-11/Afghanistan%20Drug%20Price%20Monitoring%20April%20%202017.pdf\n"
     ]
    },
    {
     "name": "stderr",
     "output_type": "stream",
     "text": [
      "UserWarning:   (552.58, 555.916) does not lie in column range (42.710453257255146, 552.2486819830714) [utils.py:740]\n",
      "UserWarning:   (539.98, 542.98) does not lie in column range (42.710453257255146, 539.6512212817413) [utils.py:740]\n",
      "UserWarning:   (512.98, 516.316) does not lie in column range (42.710453257255146, 512.5366868198307) [utils.py:740]\n",
      "UserWarning:   (511.66, 514.15) does not lie in column range (83.95307738814995, 511.3369286577993) [utils.py:740]\n",
      "UserWarning:   (511.66, 514.996) does not lie in column range (83.95307738814995, 511.3369286577993) [utils.py:740]\n",
      "UserWarning:   (552.46, 555.46) does not lie in column range (42.950404889661435, 552.0087303506651) [utils.py:740]\n",
      "UserWarning:   (562.66, 565.42) does not lie in column range (42.651402660217656, 562.3266505441354) [utils.py:740]\n",
      "UserWarning:   (552.1, 554.86) does not lie in column range (42.710453257255146, 551.7687787182588) [utils.py:740]\n",
      "UserWarning:   (552.7, 555.46) does not lie in column range (42.710453257255146, 552.2486819830714) [utils.py:740]\n",
      "UserWarning:   (552.1, 554.74) does not lie in column range (42.710453257255146, 551.7687787182588) [utils.py:740]\n",
      "UserWarning:   (49.08, 52.416) does not lie in column range (52.489419588875464, 545.6500120918985) [utils.py:740]\n",
      "UserWarning:   (546.34, 549.34) does not lie in column range (52.489419588875464, 545.6500120918985) [utils.py:740]\n",
      "UserWarning:   (492.58, 495.58) does not lie in column range (42.710453257255146, 492.3807496977026) [utils.py:740]\n",
      "UserWarning:   (52.68, 56.016) does not lie in column range (56.388633157806225, 542.5306408706167) [utils.py:740]\n",
      "UserWarning:   (542.74, 546.076) does not lie in column range (56.388633157806225, 542.5306408706167) [utils.py:740]\n",
      "UserWarning:   (552.22, 555.556) does not lie in column range (42.703892079806536, 551.8887545344619) [utils.py:740]\n",
      "UserWarning:   (552.22, 555.556) does not lie in column range (42.710453257255146, 551.8887545344619) [utils.py:740]\n",
      "UserWarning:   (405.55, 408.886) does not lie in column range (42.711390554017, 405.2783071342201) [utils.py:740]\n",
      "UserWarning:   (552.82, 555.82) does not lie in column range (42.70951594619106, 552.4886336154777) [utils.py:740]\n"
     ]
    },
    {
     "name": "stdout",
     "output_type": "stream",
     "text": [
      "<TableList n=22>\n",
      "url with pdf final:  https://moi.gov.af/sites/default/files/2020-11/Afghanistan%20Drug%20Price%20Monitoring%20May%20%202017.pdf\n"
     ]
    },
    {
     "name": "stderr",
     "output_type": "stream",
     "text": [
      "UserWarning:   (552.58, 555.916) does not lie in column range (42.710453257255146, 552.2486819830714) [utils.py:740]\n",
      "UserWarning:   (542.98, 545.98) does not lie in column range (42.94946757859735, 542.770592503023) [utils.py:740]\n",
      "UserWarning:   (544.54, 547.876) does not lie in column range (42.710453257255146, 544.0903264812575) [utils.py:740]\n",
      "UserWarning:   (511.66, 514.15) does not lie in column range (83.95307738814995, 511.3369286577993) [utils.py:740]\n",
      "UserWarning:   (511.66, 514.996) does not lie in column range (83.95307738814995, 511.3369286577993) [utils.py:740]\n",
      "UserWarning:   (552.46, 555.46) does not lie in column range (42.950404889661435, 552.0087303506651) [utils.py:740]\n",
      "UserWarning:   (538.18, 540.9399999999999) does not lie in column range (57.5284038694075, 537.6116324062878) [utils.py:740]\n",
      "UserWarning:   (552.1, 554.86) does not lie in column range (42.710453257255146, 551.7687787182588) [utils.py:740]\n",
      "UserWarning:   (552.58, 555.34) does not lie in column range (42.710453257255146, 552.2486819830714) [utils.py:740]\n",
      "UserWarning:   (552.58, 555.916) does not lie in column range (42.710921912787185, 552.2486819830714) [utils.py:740]\n",
      "UserWarning:   (552.58, 555.22) does not lie in column range (42.710453257255146, 552.2486819830714) [utils.py:740]\n",
      "UserWarning:   (492.58, 495.58) does not lie in column range (42.710453257255146, 492.3807496977026) [utils.py:740]\n",
      "UserWarning:   (47.88, 51.216) does not lie in column range (51.589600509680466, 547.0897218863363) [utils.py:740]\n",
      "UserWarning:   (547.54, 550.876) does not lie in column range (51.589600509680466, 547.0897218863363) [utils.py:740]\n",
      "UserWarning:   (61.44, 64.776) does not lie in column range (64.90691656590084, 533.4124788391778) [utils.py:740]\n",
      "UserWarning:   (533.86, 536.86) does not lie in column range (64.90691656590084, 533.4124788391778) [utils.py:740]\n",
      "UserWarning:   (552.46, 555.796) does not lie in column range (42.703892079806536, 552.1287061668683) [utils.py:740]\n",
      "UserWarning:   (552.82, 556.1560000000001) does not lie in column range (42.710453257255146, 552.4886336154777) [utils.py:740]\n",
      "UserWarning:   (405.55, 408.886) does not lie in column range (42.711390554017, 405.2783071342201) [utils.py:740]\n",
      "UserWarning:   (552.82, 555.82) does not lie in column range (42.70951594619106, 552.4886336154777) [utils.py:740]\n"
     ]
    },
    {
     "name": "stdout",
     "output_type": "stream",
     "text": [
      "<TableList n=23>\n",
      "url with pdf final:  https://moi.gov.af/sites/default/files/2020-11/Afghanistan%20Drug%20Price%20Monitoring%20June%20%202017.pdf\n"
     ]
    },
    {
     "name": "stderr",
     "output_type": "stream",
     "text": [
      "UserWarning:   (552.6, 555.936) does not lie in column range (42.710453257255146, 552.2486819830714) [utils.py:740]\n",
      "UserWarning:   (527.38, 530.38) does not lie in column range (42.710453257255146, 527.1737363966142) [utils.py:740]\n",
      "UserWarning:   (527.38, 530.716) does not lie in column range (42.710453257255146, 527.1737363966142) [utils.py:740]\n",
      "UserWarning:   (511.66, 514.15) does not lie in column range (83.95307738814995, 511.3369286577993) [utils.py:740]\n",
      "UserWarning:   (511.66, 514.996) does not lie in column range (83.95307738814995, 511.3369286577993) [utils.py:740]\n",
      "UserWarning:   (552.48, 555.48) does not lie in column range (42.950404889661435, 552.0087303506651) [utils.py:740]\n",
      "UserWarning:   (553.8, 556.56) does not lie in column range (42.651402660217656, 553.6883917775091) [utils.py:740]\n",
      "UserWarning:   (552.12, 554.88) does not lie in column range (42.710453257255146, 551.7687787182588) [utils.py:740]\n",
      "UserWarning:   (552.6, 555.36) does not lie in column range (42.710453257255146, 552.2486819830714) [utils.py:740]\n",
      "UserWarning:   (552.6, 555.24) does not lie in column range (42.710453257255146, 552.2486819830714) [utils.py:740]\n",
      "UserWarning:   (61.464, 64.8) does not lie in column range (64.96690447400242, 533.4124788391778) [utils.py:740]\n",
      "UserWarning:   (533.86, 536.86) does not lie in column range (64.96690447400242, 533.4124788391778) [utils.py:740]\n",
      "UserWarning:   (548.4, 551.4) does not lie in column range (42.94946757859735, 548.0495284159613) [utils.py:740]\n",
      "UserWarning:   (52.68, 56.016) does not lie in column range (56.388633157806225, 542.5306408706167) [utils.py:740]\n",
      "UserWarning:   (542.76, 546.096) does not lie in column range (56.388633157806225, 542.5306408706167) [utils.py:740]\n",
      "UserWarning:   (552.72, 556.056) does not lie in column range (42.703892079806536, 552.3686577992746) [utils.py:740]\n",
      "UserWarning:   (405.55, 408.886) does not lie in column range (42.711390554017, 405.2783071342201) [utils.py:740]\n",
      "UserWarning:   (552.84, 555.84) does not lie in column range (42.70951594619106, 552.4886336154777) [utils.py:740]\n"
     ]
    },
    {
     "name": "stdout",
     "output_type": "stream",
     "text": [
      "<TableList n=22>\n",
      "url with pdf final:  https://moi.gov.af/sites/default/files/2020-11/Afghanistan%20Drug%20Price%20Monitoring%20July%20%202017.pdf\n"
     ]
    },
    {
     "name": "stderr",
     "output_type": "stream",
     "text": [
      "UserWarning:   (552.34, 555.676) does not lie in column range (42.710453257255146, 552.1287061668683) [utils.py:740]\n",
      "UserWarning:   (527.98, 530.98) does not lie in column range (42.710453257255146, 527.5336638452237) [utils.py:740]\n",
      "UserWarning:   (527.98, 531.316) does not lie in column range (42.710453257255146, 527.5336638452237) [utils.py:740]\n",
      "UserWarning:   (498.1, 500.59000000000003) does not lie in column range (97.39036880290206, 497.6596856106409) [utils.py:740]\n",
      "UserWarning:   (498.1, 501.43600000000004) does not lie in column range (97.39036880290206, 497.6596856106409) [utils.py:740]\n",
      "UserWarning:   (552.46, 555.46) does not lie in column range (42.950404889661435, 552.0087303506651) [utils.py:740]\n",
      "UserWarning:   (553.78, 556.54) does not lie in column range (42.651402660217656, 553.6883917775091) [utils.py:740]\n",
      "UserWarning:   (552.1, 554.86) does not lie in column range (42.710453257255146, 551.7687787182588) [utils.py:740]\n",
      "UserWarning:   (552.22, 554.86) does not lie in column range (42.710453257255146, 551.7687787182588) [utils.py:740]\n",
      "UserWarning:   (492.58, 495.58) does not lie in column range (42.710453257255146, 492.3807496977026) [utils.py:740]\n",
      "UserWarning:   (70.944, 74.28) does not lie in column range (74.6249572206841, 524.0543651753326) [utils.py:740]\n",
      "UserWarning:   (524.38, 527.716) does not lie in column range (74.6249572206841, 524.0543651753326) [utils.py:740]\n",
      "UserWarning:   (552.34, 555.676) does not lie in column range (42.703892079806536, 552.1287061668683) [utils.py:740]\n",
      "UserWarning:   (552.58, 555.916) does not lie in column range (42.710453257255146, 552.2486819830714) [utils.py:740]\n",
      "UserWarning:   (405.55, 408.886) does not lie in column range (42.711390554017, 405.2783071342201) [utils.py:740]\n",
      "UserWarning:   (552.82, 555.82) does not lie in column range (42.70951594619106, 552.4886336154777) [utils.py:740]\n"
     ]
    },
    {
     "name": "stdout",
     "output_type": "stream",
     "text": [
      "<TableList n=22>\n",
      "url with pdf final:  https://moi.gov.af/sites/default/files/2020-11/Afghanistan%20Drug%20Price%20Monitoring%20August%20%202017.pdf\n"
     ]
    },
    {
     "name": "stderr",
     "output_type": "stream",
     "text": [
      "UserWarning:   (552.46, 555.796) does not lie in column range (42.710453257255146, 552.0087303506651) [utils.py:740]\n",
      "UserWarning:   (529.66, 532.66) does not lie in column range (42.710453257255146, 529.3333010882709) [utils.py:740]\n",
      "UserWarning:   (515.98, 519.316) does not lie in column range (42.710453257255146, 515.6560580411125) [utils.py:740]\n",
      "UserWarning:   (498.1, 500.59000000000003) does not lie in column range (97.39036880290206, 497.6596856106409) [utils.py:740]\n",
      "UserWarning:   (498.1, 501.43600000000004) does not lie in column range (97.39036880290206, 497.6596856106409) [utils.py:740]\n",
      "UserWarning:   (552.46, 555.46) does not lie in column range (42.950404889661435, 552.0087303506651) [utils.py:740]\n",
      "UserWarning:   (552.1, 554.86) does not lie in column range (42.710453257255146, 551.7687787182588) [utils.py:740]\n",
      "UserWarning:   (552.58, 555.34) does not lie in column range (42.710453257255146, 552.2486819830714) [utils.py:740]\n",
      "UserWarning:   (552.58, 555.916) does not lie in column range (42.710921912787185, 552.2486819830714) [utils.py:740]\n",
      "UserWarning:   (552.7, 555.34) does not lie in column range (42.710453257255146, 552.4886336154777) [utils.py:740]\n",
      "UserWarning:   (492.58, 495.58) does not lie in column range (42.710453257255146, 492.3807496977026) [utils.py:740]\n",
      "UserWarning:   (61.32, 64.656) does not lie in column range (65.02689192443258, 533.652430471584) [utils.py:740]\n",
      "UserWarning:   (533.98, 537.316) does not lie in column range (65.02689192443258, 533.652430471584) [utils.py:740]\n",
      "UserWarning:   (552.82, 556.1560000000001) does not lie in column range (42.703892079806536, 552.4886336154777) [utils.py:740]\n",
      "UserWarning:   (552.58, 555.916) does not lie in column range (42.710453257255146, 552.2486819830714) [utils.py:740]\n",
      "UserWarning:   (405.55, 408.886) does not lie in column range (42.711390554017, 405.2783071342201) [utils.py:740]\n",
      "UserWarning:   (552.82, 555.82) does not lie in column range (42.70951594619106, 552.4886336154777) [utils.py:740]\n"
     ]
    },
    {
     "name": "stdout",
     "output_type": "stream",
     "text": [
      "<TableList n=22>\n",
      "url with pdf final:  https://moi.gov.af/sites/default/files/2020-11/Afghanistan%20Drug%20Price%20Monitoring%20September%20%202017.pdf\n"
     ]
    },
    {
     "name": "stderr",
     "output_type": "stream",
     "text": [
      "UserWarning:   (552.7, 556.0360000000001) does not lie in column range (42.710453257255146, 552.2486819830714) [utils.py:740]\n",
      "UserWarning:   (515.98, 519.316) does not lie in column range (42.710453257255146, 515.6560580411125) [utils.py:740]\n",
      "UserWarning:   (499.66, 502.15000000000003) does not lie in column range (95.95065900846433, 499.2193712212818) [utils.py:740]\n",
      "UserWarning:   (499.66, 502.99600000000004) does not lie in column range (95.95065900846433, 499.2193712212818) [utils.py:740]\n",
      "UserWarning:   (552.46, 555.46) does not lie in column range (42.950404889661435, 552.0087303506651) [utils.py:740]\n",
      "UserWarning:   (551.62, 554.38) does not lie in column range (43.79117291414752, 551.2888754534463) [utils.py:740]\n",
      "UserWarning:   (552.1, 554.86) does not lie in column range (42.710453257255146, 551.7687787182588) [utils.py:740]\n",
      "UserWarning:   (552.1, 555.436) does not lie in column range (42.710453257255146, 551.7687787182588) [utils.py:740]\n",
      "UserWarning:   (552.7, 555.34) does not lie in column range (42.710453257255146, 552.2486819830714) [utils.py:740]\n",
      "UserWarning:   (492.58, 495.916) does not lie in column range (42.710453257255146, 492.3807496977026) [utils.py:740]\n",
      "UserWarning:   (58.32, 61.656) does not lie in column range (61.90752093198655, 536.7718016928659) [utils.py:740]\n",
      "UserWarning:   (536.98, 540.316) does not lie in column range (61.90752093198655, 536.7718016928659) [utils.py:740]\n",
      "UserWarning:   (552.22, 555.556) does not lie in column range (42.703892079806536, 551.7687787182588) [utils.py:740]\n",
      "UserWarning:   (552.46, 555.796) does not lie in column range (42.710453257255146, 552.1287061668683) [utils.py:740]\n",
      "UserWarning:   (405.55, 408.886) does not lie in column range (42.711390554017, 405.2783071342201) [utils.py:740]\n",
      "UserWarning:   (552.82, 556.1560000000001) does not lie in column range (42.70951594619106, 552.4886336154777) [utils.py:740]\n"
     ]
    },
    {
     "name": "stdout",
     "output_type": "stream",
     "text": [
      "<TableList n=22>\n",
      "url with pdf final:  https://moi.gov.af/sites/default/files/2020-11/Afghanistan%20Drug%20Price%20Monitoring%20October%20%202017.pdf\n"
     ]
    },
    {
     "name": "stderr",
     "output_type": "stream",
     "text": [
      "UserWarning:   (552.34, 555.676) does not lie in column range (42.710453257255146, 552.1287061668683) [utils.py:740]\n",
      "UserWarning:   (496.18, 499.516) does not lie in column range (42.710453257255146, 495.9800241837969) [utils.py:740]\n",
      "UserWarning:   (499.66, 502.15000000000003) does not lie in column range (95.95065900846433, 499.2193712212818) [utils.py:740]\n",
      "UserWarning:   (499.66, 502.99600000000004) does not lie in column range (95.95065900846433, 499.2193712212818) [utils.py:740]\n",
      "UserWarning:   (552.46, 555.46) does not lie in column range (42.950404889661435, 552.0087303506651) [utils.py:740]\n",
      "UserWarning:   (537.1, 539.86) does not lie in column range (58.48821039903265, 536.891777509069) [utils.py:740]\n",
      "UserWarning:   (552.1, 554.86) does not lie in column range (42.710453257255146, 551.7687787182588) [utils.py:740]\n",
      "UserWarning:   (552.58, 555.916) does not lie in column range (42.710453257255146, 552.2486819830714) [utils.py:740]\n",
      "UserWarning:   (552.22, 554.86) does not lie in column range (42.710453257255146, 552.0087303506651) [utils.py:740]\n",
      "UserWarning:   (42.48, 45.815999999999995) does not lie in column range (46.069776110943174, 495.7400725513906) [utils.py:740]\n",
      "UserWarning:   (495.94, 499.276) does not lie in column range (46.069776110943174, 495.7400725513906) [utils.py:740]\n",
      "UserWarning:   (539.86, 543.196) does not lie in column range (62.387424196799124, 539.6512212817413) [utils.py:740]\n",
      "UserWarning:   (552.34, 555.676) does not lie in column range (42.703892079806536, 552.0087303506651) [utils.py:740]\n",
      "UserWarning:   (552.7, 556.0360000000001) does not lie in column range (42.710453257255146, 552.3686577992746) [utils.py:740]\n",
      "UserWarning:   (42.48, 45.815999999999995) does not lie in column range (46.07071340770503, 408.6376299879081) [utils.py:740]\n",
      "UserWarning:   (408.91, 412.24600000000004) does not lie in column range (46.07071340770503, 408.6376299879081) [utils.py:740]\n",
      "UserWarning:   (552.82, 556.1560000000001) does not lie in column range (42.70951594619106, 552.4886336154777) [utils.py:740]\n"
     ]
    },
    {
     "name": "stdout",
     "output_type": "stream",
     "text": [
      "<TableList n=22>\n",
      "url with pdf final:  https://moi.gov.af/sites/default/files/2020-11/Afghanistan%20Drug%20Price%20Monitoring%20November%20%202017.pdf\n"
     ]
    },
    {
     "name": "stderr",
     "output_type": "stream",
     "text": [
      "UserWarning:   (552.58, 555.916) does not lie in column range (42.710453257255146, 552.2486819830714) [utils.py:740]\n",
      "UserWarning:   (501.34, 503.83) does not lie in column range (97.63032043530836, 500.8990326481258) [utils.py:740]\n",
      "UserWarning:   (94.104, 97.44) does not lie in column range (97.63032043530836, 500.8990326481258) [utils.py:740]\n",
      "UserWarning:   (501.34, 504.676) does not lie in column range (97.63032043530836, 500.8990326481258) [utils.py:740]\n",
      "UserWarning:   (552.46, 555.46) does not lie in column range (42.950404889661435, 552.0087303506651) [utils.py:740]\n",
      "UserWarning:   (547.18, 549.9399999999999) does not lie in column range (48.41024183796857, 546.969746070133) [utils.py:740]\n",
      "UserWarning:   (552.1, 554.86) does not lie in column range (42.710453257255146, 551.7687787182588) [utils.py:740]\n",
      "UserWarning:   (552.46, 555.1) does not lie in column range (42.710453257255146, 552.0087303506651) [utils.py:740]\n",
      "UserWarning:   (42.48, 45.815999999999995) does not lie in column range (46.069776110943174, 495.7400725513906) [utils.py:740]\n",
      "UserWarning:   (495.94, 499.276) does not lie in column range (46.069776110943174, 495.7400725513906) [utils.py:740]\n",
      "UserWarning:   (536.86, 540.196) does not lie in column range (65.50679518924515, 536.5318500604595) [utils.py:740]\n",
      "UserWarning:   (552.46, 555.796) does not lie in column range (42.703892079806536, 552.0087303506651) [utils.py:740]\n",
      "UserWarning:   (42.48, 45.815999999999995) does not lie in column range (46.07071340770503, 408.6376299879081) [utils.py:740]\n",
      "UserWarning:   (408.91, 412.24600000000004) does not lie in column range (46.07071340770503, 408.6376299879081) [utils.py:740]\n",
      "UserWarning:   (552.82, 556.1560000000001) does not lie in column range (42.70951594619106, 552.4886336154777) [utils.py:740]\n"
     ]
    },
    {
     "name": "stdout",
     "output_type": "stream",
     "text": [
      "<TableList n=20>\n",
      "url with pdf final:  https://moi.gov.af/sites/default/files/2020-11/Afghanistan%20Drug%20Price%20Monitoring%20December%20%202017.pdf\n"
     ]
    },
    {
     "name": "stderr",
     "output_type": "stream",
     "text": [
      "UserWarning:   (552.6, 555.936) does not lie in column range (42.710453257255146, 552.2486819830714) [utils.py:740]\n",
      "UserWarning:   (501.34, 503.83) does not lie in column range (97.63032043530836, 500.8990326481258) [utils.py:740]\n",
      "UserWarning:   (94.104, 97.44) does not lie in column range (97.63032043530836, 500.8990326481258) [utils.py:740]\n",
      "UserWarning:   (501.34, 504.676) does not lie in column range (97.63032043530836, 500.8990326481258) [utils.py:740]\n",
      "UserWarning:   (552.12, 554.88) does not lie in column range (42.710453257255146, 551.7687787182588) [utils.py:740]\n",
      "UserWarning:   (546.84, 549.6) does not lie in column range (48.65019347037486, 546.2498911729142) [utils.py:740]\n",
      "UserWarning:   (552.84, 556.176) does not lie in column range (42.710453257255146, 552.6086094316809) [utils.py:740]\n",
      "UserWarning:   (552.6, 555.936) does not lie in column range (42.710921912787185, 552.2486819830714) [utils.py:740]\n",
      "UserWarning:   (552.36, 555.0) does not lie in column range (42.710453257255146, 552.1287061668683) [utils.py:740]\n",
      "UserWarning:   (42.48, 45.815999999999995) does not lie in column range (46.069776110943174, 495.7400725513906) [utils.py:740]\n",
      "UserWarning:   (495.94, 498.94) does not lie in column range (46.069776110943174, 495.7400725513906) [utils.py:740]\n",
      "UserWarning:   (545.64, 548.976) does not lie in column range (56.86853642261879, 545.4100604594921) [utils.py:740]\n",
      "UserWarning:   (552.24, 555.576) does not lie in column range (42.703892079806536, 551.8887545344619) [utils.py:740]\n",
      "UserWarning:   (42.48, 45.815999999999995) does not lie in column range (46.07071340770503, 408.6376299879081) [utils.py:740]\n",
      "UserWarning:   (408.91, 412.24600000000004) does not lie in column range (46.07071340770503, 408.6376299879081) [utils.py:740]\n",
      "UserWarning:   (552.84, 555.6) does not lie in column range (42.70951594619106, 552.4886336154777) [utils.py:740]\n"
     ]
    },
    {
     "name": "stdout",
     "output_type": "stream",
     "text": [
      "<TableList n=22>\n",
      "url with pdf final:  https://moi.gov.af/sites/default/files/2020-11/Afghanistan%20Drug%20Price%20Monitoring%20January%202018.pdf\n"
     ]
    },
    {
     "name": "stderr",
     "output_type": "stream",
     "text": [
      "UserWarning:   (552.58, 555.916) does not lie in column range (42.710453257255146, 552.2486819830714) [utils.py:740]\n",
      "UserWarning:   (501.34, 503.83) does not lie in column range (97.63032043530836, 500.8990326481258) [utils.py:740]\n",
      "UserWarning:   (94.104, 97.44) does not lie in column range (97.63032043530836, 500.8990326481258) [utils.py:740]\n",
      "UserWarning:   (501.34, 504.676) does not lie in column range (97.63032043530836, 500.8990326481258) [utils.py:740]\n",
      "UserWarning:   (552.1, 554.86) does not lie in column range (42.710453257255146, 551.7687787182588) [utils.py:740]\n",
      "UserWarning:   (542.86, 545.62) does not lie in column range (52.729371221281745, 542.6506166868198) [utils.py:740]\n",
      "UserWarning:   (552.82, 556.1560000000001) does not lie in column range (42.710453257255146, 552.6086094316809) [utils.py:740]\n",
      "UserWarning:   (552.58, 555.916) does not lie in column range (42.710921912787185, 552.2486819830714) [utils.py:740]\n",
      "UserWarning:   (552.1, 554.74) does not lie in column range (42.710453257255146, 551.7687787182588) [utils.py:740]\n",
      "UserWarning:   (509.74, 512.74) does not lie in column range (42.710453257255146, 509.417315598549) [utils.py:740]\n",
      "UserWarning:   (540.94, 544.2760000000001) does not lie in column range (49.43003604685958, 540.4910519951633) [utils.py:740]\n",
      "UserWarning:   (552.82, 556.1560000000001) does not lie in column range (42.703892079806536, 552.4886336154777) [utils.py:740]\n",
      "UserWarning:   (552.46, 555.796) does not lie in column range (42.710453257255146, 552.0087303506651) [utils.py:740]\n",
      "UserWarning:   (42.48, 45.815999999999995) does not lie in column range (46.07071340770503, 408.6376299879081) [utils.py:740]\n",
      "UserWarning:   (408.91, 412.24600000000004) does not lie in column range (46.07071340770503, 408.6376299879081) [utils.py:740]\n",
      "UserWarning:   (552.82, 555.58) does not lie in column range (42.70951594619106, 552.4886336154777) [utils.py:740]\n"
     ]
    },
    {
     "name": "stdout",
     "output_type": "stream",
     "text": [
      "<TableList n=21>\n",
      "url with pdf final:  https://moi.gov.af/sites/default/files/2020-11/Afghanistan%20Drug%20Price%20Monitoring%20February%202018.pdf\n"
     ]
    },
    {
     "name": "stderr",
     "output_type": "stream",
     "text": [
      "UserWarning:   (552.58, 555.916) does not lie in column range (42.710453257255146, 552.2486819830714) [utils.py:740]\n",
      "UserWarning:   (501.34, 503.83) does not lie in column range (97.63032043530836, 500.8990326481258) [utils.py:740]\n",
      "UserWarning:   (94.104, 97.44) does not lie in column range (97.63032043530836, 500.8990326481258) [utils.py:740]\n",
      "UserWarning:   (501.34, 504.676) does not lie in column range (97.63032043530836, 500.8990326481258) [utils.py:740]\n",
      "UserWarning:   (552.1, 554.86) does not lie in column range (42.710453257255146, 551.7687787182588) [utils.py:740]\n",
      "UserWarning:   (558.1, 560.86) does not lie in column range (42.651402660217656, 557.7675695284161) [utils.py:740]\n",
      "UserWarning:   (552.82, 556.1560000000001) does not lie in column range (42.710453257255146, 552.6086094316809) [utils.py:740]\n",
      "UserWarning:   (552.82, 555.46) does not lie in column range (42.710453257255146, 552.4886336154777) [utils.py:740]\n",
      "UserWarning:   (509.74, 513.076) does not lie in column range (42.710453257255146, 509.417315598549) [utils.py:740]\n",
      "UserWarning:   (526.9, 530.236) does not lie in column range (49.43003604685958, 526.6938331318017) [utils.py:740]\n",
      "UserWarning:   (552.7, 556.0360000000001) does not lie in column range (42.703892079806536, 552.3686577992746) [utils.py:740]\n",
      "UserWarning:   (552.34, 555.676) does not lie in column range (42.710453257255146, 552.0087303506651) [utils.py:740]\n",
      "UserWarning:   (42.48, 45.815999999999995) does not lie in column range (46.07071340770503, 408.6376299879081) [utils.py:740]\n",
      "UserWarning:   (408.91, 412.24600000000004) does not lie in column range (46.07071340770503, 408.6376299879081) [utils.py:740]\n",
      "UserWarning:   (552.82, 556.1560000000001) does not lie in column range (42.70951594619106, 552.4886336154777) [utils.py:740]\n"
     ]
    },
    {
     "name": "stdout",
     "output_type": "stream",
     "text": [
      "<TableList n=20>\n",
      "url with pdf final:  https://moi.gov.af/sites/default/files/2020-11/Afghanistan%20Drug%20Price%20Monitoring%20March%202018.pdf\n"
     ]
    },
    {
     "name": "stderr",
     "output_type": "stream",
     "text": [
      "UserWarning:   (564.94, 568.2760000000001) does not lie in column range (42.94946757859735, 564.6061910519952) [utils.py:740]\n",
      "UserWarning:   (501.34, 503.83) does not lie in column range (97.63032043530836, 500.8990326481258) [utils.py:740]\n",
      "UserWarning:   (94.104, 97.44) does not lie in column range (97.63032043530836, 500.8990326481258) [utils.py:740]\n",
      "UserWarning:   (501.34, 504.676) does not lie in column range (97.63032043530836, 500.8990326481258) [utils.py:740]\n",
      "UserWarning:   (552.7, 555.46) does not lie in column range (42.710453257255146, 552.2486819830714) [utils.py:740]\n",
      "UserWarning:   (550.18, 552.9399999999999) does not lie in column range (45.29087061668682, 549.6092140266022) [utils.py:740]\n",
      "UserWarning:   (552.82, 556.1560000000001) does not lie in column range (42.710453257255146, 552.6086094316809) [utils.py:740]\n",
      "UserWarning:   (552.58, 555.916) does not lie in column range (42.710921912787185, 552.2486819830714) [utils.py:740]\n",
      "UserWarning:   (552.22, 554.86) does not lie in column range (42.710453257255146, 552.0087303506651) [utils.py:740]\n",
      "UserWarning:   (492.58, 495.58) does not lie in column range (42.710453257255146, 492.3807496977026) [utils.py:740]\n",
      "UserWarning:   (534.7, 538.0360000000001) does not lie in column range (49.43003604685958, 534.2523095525999) [utils.py:740]\n",
      "UserWarning:   (552.46, 555.796) does not lie in column range (42.703892079806536, 552.0087303506651) [utils.py:740]\n",
      "UserWarning:   (552.58, 555.916) does not lie in column range (42.710453257255146, 552.2486819830714) [utils.py:740]\n",
      "UserWarning:   (42.48, 45.815999999999995) does not lie in column range (46.07071340770503, 408.6376299879081) [utils.py:740]\n",
      "UserWarning:   (408.91, 412.24600000000004) does not lie in column range (46.07071340770503, 408.6376299879081) [utils.py:740]\n",
      "UserWarning:   (552.58, 555.916) does not lie in column range (42.94946757859735, 552.3686577992746) [utils.py:740]\n"
     ]
    },
    {
     "name": "stdout",
     "output_type": "stream",
     "text": [
      "<TableList n=22>\n",
      "url with pdf final:  https://moi.gov.af/sites/default/files/2020-11/Afghanistan%20Drug%20Price%20Monitoring%20April%202018.pdf\n"
     ]
    },
    {
     "name": "stderr",
     "output_type": "stream",
     "text": [
      "UserWarning:   (552.58, 555.916) does not lie in column range (42.710453257255146, 552.2486819830714) [utils.py:740]\n",
      "UserWarning:   (501.34, 503.83) does not lie in column range (97.63032043530836, 500.8990326481258) [utils.py:740]\n",
      "UserWarning:   (94.104, 97.44) does not lie in column range (97.63032043530836, 500.8990326481258) [utils.py:740]\n",
      "UserWarning:   (501.34, 504.676) does not lie in column range (97.63032043530836, 500.8990326481258) [utils.py:740]\n",
      "UserWarning:   (552.7, 555.46) does not lie in column range (42.710453257255146, 552.2486819830714) [utils.py:740]\n",
      "UserWarning:   (545.26, 548.02) does not lie in column range (50.329854897218866, 544.5702297460703) [utils.py:740]\n",
      "UserWarning:   (552.82, 556.1560000000001) does not lie in column range (42.710453257255146, 552.6086094316809) [utils.py:740]\n",
      "UserWarning:   (552.34, 554.98) does not lie in column range (42.710453257255146, 552.0087303506651) [utils.py:740]\n",
      "UserWarning:   (492.58, 495.58) does not lie in column range (42.710453257255146, 492.3807496977026) [utils.py:740]\n",
      "UserWarning:   (549.7, 553.0360000000001) does not lie in column range (49.43003604685958, 549.2492865779927) [utils.py:740]\n",
      "UserWarning:   (552.7, 556.0360000000001) does not lie in column range (42.703892079806536, 552.2486819830714) [utils.py:740]\n",
      "UserWarning:   (552.22, 555.556) does not lie in column range (42.710453257255146, 551.8887545344619) [utils.py:740]\n",
      "UserWarning:   (42.48, 45.815999999999995) does not lie in column range (46.07071340770503, 408.6376299879081) [utils.py:740]\n",
      "UserWarning:   (408.91, 412.24600000000004) does not lie in column range (46.07071340770503, 408.6376299879081) [utils.py:740]\n",
      "UserWarning:   (552.58, 555.916) does not lie in column range (42.94946757859735, 552.3686577992746) [utils.py:740]\n"
     ]
    },
    {
     "name": "stdout",
     "output_type": "stream",
     "text": [
      "<TableList n=22>\n",
      "url with pdf final:  https://moi.gov.af/sites/default/files/2020-11/Afghanistan%20Drug%20Price%20Monitoring%20May%202018.pdf\n"
     ]
    },
    {
     "name": "stderr",
     "output_type": "stream",
     "text": [
      "UserWarning:   (552.58, 555.916) does not lie in column range (42.710453257255146, 552.2486819830714) [utils.py:740]\n",
      "UserWarning:   (541.18, 543.9399999999999) does not lie in column range (42.94946757859735, 540.7310036275696) [utils.py:740]\n",
      "UserWarning:   (501.34, 503.83) does not lie in column range (97.63032043530836, 500.8990326481258) [utils.py:740]\n",
      "UserWarning:   (94.104, 97.44) does not lie in column range (97.63032043530836, 500.8990326481258) [utils.py:740]\n",
      "UserWarning:   (501.34, 504.676) does not lie in column range (97.63032043530836, 500.8990326481258) [utils.py:740]\n",
      "UserWarning:   (552.7, 555.46) does not lie in column range (42.710453257255146, 552.2486819830714) [utils.py:740]\n",
      "UserWarning:   (559.78, 562.54) does not lie in column range (42.651402660217656, 559.2072793228538) [utils.py:740]\n",
      "UserWarning:   (552.82, 556.1560000000001) does not lie in column range (42.710453257255146, 552.6086094316809) [utils.py:740]\n",
      "UserWarning:   (552.58, 555.916) does not lie in column range (42.710921912787185, 552.2486819830714) [utils.py:740]\n",
      "UserWarning:   (552.34, 554.98) does not lie in column range (42.710453257255146, 552.0087303506651) [utils.py:740]\n",
      "UserWarning:   (492.58, 495.58) does not lie in column range (42.710453257255146, 492.3807496977026) [utils.py:740]\n",
      "UserWarning:   (522.1, 525.436) does not lie in column range (49.43003604685958, 521.6548488512697) [utils.py:740]\n",
      "UserWarning:   (552.82, 556.1560000000001) does not lie in column range (42.703892079806536, 552.6086094316809) [utils.py:740]\n",
      "UserWarning:   (552.46, 555.796) does not lie in column range (42.710453257255146, 552.2486819830714) [utils.py:740]\n",
      "UserWarning:   (42.48, 45.815999999999995) does not lie in column range (46.07071340770503, 408.6376299879081) [utils.py:740]\n",
      "UserWarning:   (408.91, 412.24600000000004) does not lie in column range (46.07071340770503, 408.6376299879081) [utils.py:740]\n",
      "UserWarning:   (552.7, 556.0360000000001) does not lie in column range (42.70951594619106, 552.2486819830714) [utils.py:740]\n"
     ]
    },
    {
     "name": "stdout",
     "output_type": "stream",
     "text": [
      "<TableList n=22>\n",
      "url with pdf final:  https://moi.gov.af/sites/default/files/2020-11/Afghanistan%20Drug%20Price%20Monitoring%20June%202018.pdf\n"
     ]
    },
    {
     "name": "stderr",
     "output_type": "stream",
     "text": [
      "UserWarning:   (552.58, 555.916) does not lie in column range (42.710453257255146, 552.2486819830714) [utils.py:740]\n",
      "UserWarning:   (501.34, 503.83) does not lie in column range (97.63032043530836, 500.8990326481258) [utils.py:740]\n",
      "UserWarning:   (94.104, 97.44) does not lie in column range (97.63032043530836, 500.8990326481258) [utils.py:740]\n",
      "UserWarning:   (501.34, 504.676) does not lie in column range (97.63032043530836, 500.8990326481258) [utils.py:740]\n",
      "UserWarning:   (552.46, 555.22) does not lie in column range (42.710453257255146, 552.0087303506651) [utils.py:740]\n",
      "UserWarning:   (556.18, 558.9399999999999) does not lie in column range (42.651402660217656, 555.6080048367594) [utils.py:740]\n",
      "UserWarning:   (552.82, 556.1560000000001) does not lie in column range (42.710453257255146, 552.6086094316809) [utils.py:740]\n",
      "UserWarning:   (552.58, 555.22) does not lie in column range (42.710453257255146, 552.3686577992746) [utils.py:740]\n",
      "UserWarning:   (492.58, 495.58) does not lie in column range (42.710453257255146, 492.3807496977026) [utils.py:740]\n",
      "UserWarning:   (527.5, 530.836) does not lie in column range (49.43003604685958, 527.1737363966142) [utils.py:740]\n",
      "UserWarning:   (552.7, 556.0360000000001) does not lie in column range (42.703892079806536, 552.3686577992746) [utils.py:740]\n",
      "UserWarning:   (552.82, 556.1560000000001) does not lie in column range (42.710453257255146, 552.4886336154777) [utils.py:740]\n",
      "UserWarning:   (42.48, 45.815999999999995) does not lie in column range (46.07071340770503, 408.6376299879081) [utils.py:740]\n",
      "UserWarning:   (408.91, 412.24600000000004) does not lie in column range (46.07071340770503, 408.6376299879081) [utils.py:740]\n",
      "UserWarning:   (552.82, 556.1560000000001) does not lie in column range (42.70951594619106, 552.6086094316809) [utils.py:740]\n"
     ]
    },
    {
     "name": "stdout",
     "output_type": "stream",
     "text": [
      "<TableList n=22>\n",
      "url with pdf final:  https://moi.gov.af/sites/default/files/2020-11/Afghanistan%20Drug%20Price%20Monitoring%20July%202018.pdf\n"
     ]
    },
    {
     "name": "stderr",
     "output_type": "stream",
     "text": [
      "UserWarning:   (552.58, 555.916) does not lie in column range (42.710453257255146, 552.2486819830714) [utils.py:740]\n",
      "UserWarning:   (501.34, 503.83) does not lie in column range (97.63032043530836, 500.8990326481258) [utils.py:740]\n",
      "UserWarning:   (94.104, 97.44) does not lie in column range (97.63032043530836, 500.8990326481258) [utils.py:740]\n",
      "UserWarning:   (501.34, 504.676) does not lie in column range (97.63032043530836, 500.8990326481258) [utils.py:740]\n",
      "UserWarning:   (552.46, 555.22) does not lie in column range (42.710453257255146, 552.0087303506651) [utils.py:740]\n",
      "UserWarning:   (556.18, 558.9399999999999) does not lie in column range (43.13130592503023, 556.087908101572) [utils.py:740]\n",
      "UserWarning:   (552.46, 555.796) does not lie in column range (42.710453257255146, 552.2486819830714) [utils.py:740]\n",
      "UserWarning:   (552.34, 554.98) does not lie in column range (42.710453257255146, 552.1287061668683) [utils.py:740]\n",
      "UserWarning:   (492.58, 495.916) does not lie in column range (42.710453257255146, 492.3807496977026) [utils.py:740]\n",
      "UserWarning:   (533.5, 536.836) does not lie in column range (49.43003604685958, 533.1725272067715) [utils.py:740]\n",
      "UserWarning:   (552.34, 555.676) does not lie in column range (42.703892079806536, 552.0087303506651) [utils.py:740]\n",
      "UserWarning:   (552.82, 556.1560000000001) does not lie in column range (42.710453257255146, 552.4886336154777) [utils.py:740]\n",
      "UserWarning:   (42.48, 45.815999999999995) does not lie in column range (46.07071340770503, 408.6376299879081) [utils.py:740]\n",
      "UserWarning:   (408.91, 412.24600000000004) does not lie in column range (46.07071340770503, 408.6376299879081) [utils.py:740]\n",
      "UserWarning:   (552.7, 556.0360000000001) does not lie in column range (42.70951594619106, 552.2486819830714) [utils.py:740]\n"
     ]
    },
    {
     "name": "stdout",
     "output_type": "stream",
     "text": [
      "<TableList n=22>\n",
      "url with pdf final:  https://moi.gov.af/sites/default/files/2020-11/Afghanistan%20Drug%20Price%20Monitoring%20August%202018.pdf\n"
     ]
    },
    {
     "name": "stderr",
     "output_type": "stream",
     "text": [
      "UserWarning:   (552.58, 555.916) does not lie in column range (42.710453257255146, 552.2486819830714) [utils.py:740]\n",
      "UserWarning:   (504.94, 507.43) does not lie in column range (94.00105199516325, 504.4983071342201) [utils.py:740]\n",
      "UserWarning:   (90.384, 93.72) does not lie in column range (94.00105199516325, 504.4983071342201) [utils.py:740]\n",
      "UserWarning:   (94.104, 97.44) does not lie in column range (97.63032043530836, 500.8990326481258) [utils.py:740]\n",
      "UserWarning:   (501.34, 504.676) does not lie in column range (97.63032043530836, 500.8990326481258) [utils.py:740]\n",
      "UserWarning:   (552.46, 555.22) does not lie in column range (42.710453257255146, 552.0087303506651) [utils.py:740]\n",
      "UserWarning:   (550.18, 552.9399999999999) does not lie in column range (45.530822249093106, 549.6092140266022) [utils.py:740]\n",
      "UserWarning:   (552.46, 555.796) does not lie in column range (42.710453257255146, 552.2486819830714) [utils.py:740]\n",
      "UserWarning:   (552.82, 555.46) does not lie in column range (42.710453257255146, 552.6086094316809) [utils.py:740]\n",
      "UserWarning:   (492.58, 495.916) does not lie in column range (42.710453257255146, 492.3807496977026) [utils.py:740]\n",
      "UserWarning:   (523.3, 526.636) does not lie in column range (49.43003604685958, 523.0945586457074) [utils.py:740]\n",
      "UserWarning:   (552.46, 555.796) does not lie in column range (42.703892079806536, 552.0087303506651) [utils.py:740]\n",
      "UserWarning:   (552.7, 556.0360000000001) does not lie in column range (42.710453257255146, 552.3686577992746) [utils.py:740]\n",
      "UserWarning:   (42.48, 45.815999999999995) does not lie in column range (46.07071340770503, 408.6376299879081) [utils.py:740]\n",
      "UserWarning:   (408.91, 412.24600000000004) does not lie in column range (46.07071340770503, 408.6376299879081) [utils.py:740]\n",
      "UserWarning:   (552.7, 556.0360000000001) does not lie in column range (42.94946757859735, 552.4886336154777) [utils.py:740]\n"
     ]
    },
    {
     "name": "stdout",
     "output_type": "stream",
     "text": [
      "<TableList n=21>\n",
      "url with pdf final:  https://moi.gov.af/sites/default/files/2020-11/Afghanistan%20Drug%20Price%20Monitoring%20September%202018.pdf\n"
     ]
    },
    {
     "name": "stderr",
     "output_type": "stream",
     "text": [
      "UserWarning:   (496.38, 498.8175) does not lie in column range (102.67034461910521, 495.8899637243047) [utils.py:740]\n",
      "UserWarning:   (99.125, 102.461) does not lie in column range (102.67034461910521, 495.8899637243047) [utils.py:740]\n",
      "UserWarning:   (496.38, 499.716) does not lie in column range (102.67034461910521, 495.8899637243047) [utils.py:740]\n",
      "UserWarning:   (553.45, 556.2625) does not lie in column range (43.203415488966144, 553.0157194679565) [utils.py:740]\n",
      "UserWarning:   (553.45, 556.7860000000001) does not lie in column range (43.203415488966144, 553.0157194679565) [utils.py:740]\n",
      "UserWarning:   (553.45, 556.075) does not lie in column range (43.203415488966144, 553.0157194679565) [utils.py:740]\n",
      "UserWarning:   (517.4, 520.736) does not lie in column range (78.72793182755902, 517.012091898428) [utils.py:740]\n",
      "UserWarning:   (42.8, 46.135999999999996) does not lie in column range (46.56469162797697, 399.40024183796857) [utils.py:740]\n",
      "UserWarning:   (399.5, 402.836) does not lie in column range (46.56469162797697, 399.40024183796857) [utils.py:740]\n"
     ]
    },
    {
     "name": "stdout",
     "output_type": "stream",
     "text": [
      "<TableList n=23>\n",
      "url with pdf final:  https://moi.gov.af/sites/default/files/2020-11/Afghanistan%20Drug%20Price%20Monitoring%20October%202018.pdf\n"
     ]
    },
    {
     "name": "stderr",
     "output_type": "stream",
     "text": [
      "UserWarning:   (552.46, 555.796) does not lie in column range (42.710453257255146, 552.1287061668683) [utils.py:740]\n",
      "UserWarning:   (496.3, 498.79) does not lie in column range (102.87926239419589, 495.7400725513906) [utils.py:740]\n",
      "UserWarning:   (99.144, 102.48) does not lie in column range (102.87926239419589, 495.7400725513906) [utils.py:740]\n",
      "UserWarning:   (496.3, 499.636) does not lie in column range (102.87926239419589, 495.7400725513906) [utils.py:740]\n",
      "UserWarning:   (552.82, 555.58) does not lie in column range (42.710453257255146, 552.6086094316809) [utils.py:740]\n",
      "UserWarning:   (552.22, 555.556) does not lie in column range (42.710453257255146, 551.8887545344619) [utils.py:740]\n",
      "UserWarning:   (552.46, 555.1) does not lie in column range (42.710453257255146, 552.1287061668683) [utils.py:740]\n",
      "UserWarning:   (504.58, 507.916) does not lie in column range (42.94946757859735, 504.1383796856107) [utils.py:740]\n",
      "UserWarning:   (548.98, 552.316) does not lie in column range (46.790567861554706, 548.7693833131802) [utils.py:740]\n",
      "UserWarning:   (552.58, 555.916) does not lie in column range (42.703892079806536, 552.2486819830714) [utils.py:740]\n",
      "UserWarning:   (552.7, 556.0360000000001) does not lie in column range (42.710453257255146, 552.2486819830714) [utils.py:740]\n",
      "UserWarning:   (42.48, 45.815999999999995) does not lie in column range (46.31066502580909, 399.03956469165666) [utils.py:740]\n",
      "UserWarning:   (399.19, 402.526) does not lie in column range (46.31066502580909, 399.03956469165666) [utils.py:740]\n",
      "UserWarning:   (552.7, 556.0360000000001) does not lie in column range (42.94946757859735, 552.2486819830714) [utils.py:740]\n"
     ]
    },
    {
     "name": "stdout",
     "output_type": "stream",
     "text": [
      "<TableList n=21>\n",
      "url with pdf final:  https://moi.gov.af/sites/default/files/2020-11/Afghanistan%20Drug%20Price%20Monitoring%20November%202018.pdf\n"
     ]
    },
    {
     "name": "stderr",
     "output_type": "stream",
     "text": [
      "UserWarning:   (552.46, 555.796) does not lie in column range (42.710453257255146, 552.1287061668683) [utils.py:740]\n",
      "UserWarning:   (496.3, 498.79) does not lie in column range (102.87926239419589, 495.7400725513906) [utils.py:740]\n",
      "UserWarning:   (99.144, 102.48) does not lie in column range (102.87926239419589, 495.7400725513906) [utils.py:740]\n",
      "UserWarning:   (496.3, 499.636) does not lie in column range (102.87926239419589, 495.7400725513906) [utils.py:740]\n",
      "UserWarning:   (552.82, 555.58) does not lie in column range (42.710453257255146, 552.6086094316809) [utils.py:740]\n",
      "UserWarning:   (552.22, 554.98) does not lie in column range (42.710453257255146, 551.7687787182588) [utils.py:740]\n",
      "UserWarning:   (552.22, 555.556) does not lie in column range (42.710453257255146, 551.8887545344619) [utils.py:740]\n",
      "UserWarning:   (552.58, 555.916) does not lie in column range (42.950404889661435, 552.3686577992746) [utils.py:740]\n",
      "UserWarning:   (552.22, 554.86) does not lie in column range (42.710453257255146, 551.8887545344619) [utils.py:740]\n",
      "UserWarning:   (542.74, 546.076) does not lie in column range (42.94946757859735, 542.2906892382105) [utils.py:740]\n",
      "UserWarning:   (539.62, 542.956) does not lie in column range (56.14868152539994, 539.411269649335) [utils.py:740]\n",
      "UserWarning:   (552.82, 556.1560000000001) does not lie in column range (42.703892079806536, 552.6086094316809) [utils.py:740]\n",
      "UserWarning:   (552.7, 556.0360000000001) does not lie in column range (42.710453257255146, 552.2486819830714) [utils.py:740]\n",
      "UserWarning:   (42.48, 45.815999999999995) does not lie in column range (46.31066502580909, 399.03956469165666) [utils.py:740]\n",
      "UserWarning:   (399.19, 402.526) does not lie in column range (46.31066502580909, 399.03956469165666) [utils.py:740]\n",
      "UserWarning:   (552.82, 556.1560000000001) does not lie in column range (42.70951594619106, 552.6086094316809) [utils.py:740]\n"
     ]
    },
    {
     "name": "stdout",
     "output_type": "stream",
     "text": [
      "<TableList n=20>\n",
      "url with pdf final:  https://moi.gov.af/sites/default/files/2020-11/Afghanistan%20Drug%20Price%20Monitoring%20December%202018.pdf\n"
     ]
    },
    {
     "name": "stderr",
     "output_type": "stream",
     "text": [
      "UserWarning:   (552.46, 555.796) does not lie in column range (42.710453257255146, 552.1287061668683) [utils.py:740]\n",
      "UserWarning:   (496.3, 498.79) does not lie in column range (102.87926239419589, 495.7400725513906) [utils.py:740]\n",
      "UserWarning:   (99.144, 102.48) does not lie in column range (102.87926239419589, 495.7400725513906) [utils.py:740]\n",
      "UserWarning:   (496.3, 499.636) does not lie in column range (102.87926239419589, 495.7400725513906) [utils.py:740]\n",
      "UserWarning:   (552.22, 554.98) does not lie in column range (42.710453257255146, 551.7687787182588) [utils.py:740]\n",
      "UserWarning:   (552.58, 555.916) does not lie in column range (42.710453257255146, 552.3686577992746) [utils.py:740]\n",
      "UserWarning:   (552.58, 555.916) does not lie in column range (42.950404889661435, 552.3686577992746) [utils.py:740]\n",
      "UserWarning:   (552.22, 554.86) does not lie in column range (42.710453257255146, 551.7687787182588) [utils.py:740]\n",
      "UserWarning:   (502.3, 505.636) does not lie in column range (42.94946757859735, 501.9788149939541) [utils.py:740]\n",
      "UserWarning:   (540.94, 544.2760000000001) does not lie in column range (54.708971730962205, 540.6110278113665) [utils.py:740]\n",
      "UserWarning:   (552.58, 555.916) does not lie in column range (42.703892079806536, 552.2486819830714) [utils.py:740]\n",
      "UserWarning:   (552.94, 556.2760000000001) does not lie in column range (42.710453257255146, 552.4886336154777) [utils.py:740]\n",
      "UserWarning:   (42.48, 45.815999999999995) does not lie in column range (46.31066502580909, 399.03956469165666) [utils.py:740]\n",
      "UserWarning:   (399.19, 402.526) does not lie in column range (46.31066502580909, 399.03956469165666) [utils.py:740]\n",
      "UserWarning:   (552.58, 555.916) does not lie in column range (42.94946757859735, 552.3686577992746) [utils.py:740]\n"
     ]
    },
    {
     "name": "stdout",
     "output_type": "stream",
     "text": [
      "<TableList n=19>\n",
      "url with pdf final:  https://moi.gov.af/sites/default/files/2020-11/Afghanistan%20Drug%20Price%20Monitoring%20January%202019.pdf\n"
     ]
    },
    {
     "name": "stderr",
     "output_type": "stream",
     "text": [
      "UserWarning:   (552.34, 555.676) does not lie in column range (42.94946757859735, 551.8887545344619) [utils.py:740]\n",
      "UserWarning:   (496.3, 498.79) does not lie in column range (102.87926239419589, 495.7400725513906) [utils.py:740]\n",
      "UserWarning:   (99.144, 102.48) does not lie in column range (102.87926239419589, 495.7400725513906) [utils.py:740]\n",
      "UserWarning:   (496.3, 499.636) does not lie in column range (102.87926239419589, 495.7400725513906) [utils.py:740]\n",
      "UserWarning:   (552.22, 554.98) does not lie in column range (42.710453257255146, 551.7687787182588) [utils.py:740]\n",
      "UserWarning:   (552.22, 555.556) does not lie in column range (42.710453257255146, 551.8887545344619) [utils.py:740]\n",
      "UserWarning:   (552.7, 555.34) does not lie in column range (42.710453257255146, 552.2486819830714) [utils.py:740]\n",
      "UserWarning:   (502.3, 505.636) does not lie in column range (42.94946757859735, 501.9788149939541) [utils.py:740]\n",
      "UserWarning:   (541.06, 544.396) does not lie in column range (54.708971730962205, 540.8509794437728) [utils.py:740]\n",
      "UserWarning:   (552.34, 555.676) does not lie in column range (42.703892079806536, 552.1287061668683) [utils.py:740]\n",
      "UserWarning:   (552.94, 556.2760000000001) does not lie in column range (42.710453257255146, 552.4886336154777) [utils.py:740]\n",
      "UserWarning:   (42.48, 45.815999999999995) does not lie in column range (46.31066502580909, 399.03956469165666) [utils.py:740]\n",
      "UserWarning:   (399.19, 402.526) does not lie in column range (46.31066502580909, 399.03956469165666) [utils.py:740]\n",
      "UserWarning:   (552.58, 555.916) does not lie in column range (43.18754458887546, 552.1287061668683) [utils.py:740]\n"
     ]
    },
    {
     "name": "stdout",
     "output_type": "stream",
     "text": [
      "<TableList n=21>\n",
      "url with pdf final:  https://moi.gov.af/sites/default/files/2020-11/Afghanistan%20Drug%20Price%20Monitoring%20February%20%202019%20.pdf\n"
     ]
    },
    {
     "name": "stderr",
     "output_type": "stream",
     "text": [
      "UserWarning:   (552.34, 555.676) does not lie in column range (42.94946757859735, 551.8887545344619) [utils.py:740]\n",
      "UserWarning:   (496.3, 498.79) does not lie in column range (102.87926239419589, 495.7400725513906) [utils.py:740]\n",
      "UserWarning:   (99.144, 102.48) does not lie in column range (102.87926239419589, 495.7400725513906) [utils.py:740]\n",
      "UserWarning:   (496.3, 499.636) does not lie in column range (102.87926239419589, 495.7400725513906) [utils.py:740]\n",
      "UserWarning:   (552.22, 554.98) does not lie in column range (42.710453257255146, 551.7687787182588) [utils.py:740]\n",
      "UserWarning:   (552.22, 555.556) does not lie in column range (42.710453257255146, 551.8887545344619) [utils.py:740]\n",
      "UserWarning:   (552.58, 555.916) does not lie in column range (42.950404889661435, 552.3686577992746) [utils.py:740]\n",
      "UserWarning:   (552.1, 554.74) does not lie in column range (42.710453257255146, 551.8887545344619) [utils.py:740]\n",
      "UserWarning:   (502.3, 505.636) does not lie in column range (42.94946757859735, 501.9788149939541) [utils.py:740]\n",
      "UserWarning:   (535.06, 538.396) does not lie in column range (60.70776254111939, 534.6122370012092) [utils.py:740]\n",
      "UserWarning:   (552.82, 556.1560000000001) does not lie in column range (42.703892079806536, 552.3686577992746) [utils.py:740]\n",
      "UserWarning:   (552.94, 556.2760000000001) does not lie in column range (42.710453257255146, 552.4886336154777) [utils.py:740]\n",
      "UserWarning:   (42.48, 45.815999999999995) does not lie in column range (46.31066502580909, 399.03956469165666) [utils.py:740]\n",
      "UserWarning:   (399.19, 402.526) does not lie in column range (46.31066502580909, 399.03956469165666) [utils.py:740]\n",
      "UserWarning:   (552.82, 556.1560000000001) does not lie in column range (42.94759295646917, 552.6086094316809) [utils.py:740]\n"
     ]
    },
    {
     "name": "stdout",
     "output_type": "stream",
     "text": [
      "<TableList n=22>\n",
      "url with pdf final:  https://moi.gov.af/sites/default/files/2020-11/Afghanistan%20Drug%20Price%20Monitoring%20March%20%202019%20.pdf\n"
     ]
    },
    {
     "name": "stderr",
     "output_type": "stream",
     "text": [
      "UserWarning:   (552.46, 555.796) does not lie in column range (42.94946757859735, 552.1287061668683) [utils.py:740]\n",
      "UserWarning:   (496.3, 498.79) does not lie in column range (102.87926239419589, 495.7400725513906) [utils.py:740]\n",
      "UserWarning:   (99.144, 102.48) does not lie in column range (102.87926239419589, 495.7400725513906) [utils.py:740]\n",
      "UserWarning:   (496.3, 499.636) does not lie in column range (102.87926239419589, 495.7400725513906) [utils.py:740]\n",
      "UserWarning:   (552.34, 555.1) does not lie in column range (42.710453257255146, 552.1287061668683) [utils.py:740]\n",
      "UserWarning:   (552.22, 555.556) does not lie in column range (42.710453257255146, 551.8887545344619) [utils.py:740]\n",
      "UserWarning:   (552.58, 555.22) does not lie in column range (42.710453257255146, 552.3686577992746) [utils.py:740]\n",
      "UserWarning:   (502.3, 505.636) does not lie in column range (42.94946757859735, 501.9788149939541) [utils.py:740]\n",
      "UserWarning:   (531.34, 534.676) does not lie in column range (64.30703702721371, 530.7730108827086) [utils.py:740]\n",
      "UserWarning:   (552.7, 556.0360000000001) does not lie in column range (42.703892079806536, 552.3686577992746) [utils.py:740]\n",
      "UserWarning:   (552.7, 556.0360000000001) does not lie in column range (42.710453257255146, 552.2486819830714) [utils.py:740]\n",
      "UserWarning:   (42.48, 45.815999999999995) does not lie in column range (46.31066502580909, 399.03956469165666) [utils.py:740]\n",
      "UserWarning:   (399.19, 402.526) does not lie in column range (46.31066502580909, 399.03956469165666) [utils.py:740]\n",
      "UserWarning:   (552.7, 556.0360000000001) does not lie in column range (42.94946757859735, 552.3686577992746) [utils.py:740]\n"
     ]
    },
    {
     "name": "stdout",
     "output_type": "stream",
     "text": [
      "<TableList n=21>\n",
      "url with pdf final:  https://moi.gov.af/sites/default/files/2020-11/Afghanistan%20Drug%20Price%20Monitoring%20April%20%202019%20.pdf\n"
     ]
    },
    {
     "name": "stderr",
     "output_type": "stream",
     "text": [
      "UserWarning:   (552.46, 555.796) does not lie in column range (42.94946757859735, 552.1287061668683) [utils.py:740]\n",
      "UserWarning:   (496.3, 498.79) does not lie in column range (102.87926239419589, 495.7400725513906) [utils.py:740]\n",
      "UserWarning:   (99.144, 102.48) does not lie in column range (102.87926239419589, 495.7400725513906) [utils.py:740]\n",
      "UserWarning:   (496.3, 499.636) does not lie in column range (102.87926239419589, 495.7400725513906) [utils.py:740]\n",
      "UserWarning:   (552.34, 555.1) does not lie in column range (42.710453257255146, 552.1287061668683) [utils.py:740]\n",
      "UserWarning:   (552.22, 555.556) does not lie in column range (42.710453257255146, 551.8887545344619) [utils.py:740]\n",
      "UserWarning:   (552.58, 555.916) does not lie in column range (42.950404889661435, 552.3686577992746) [utils.py:740]\n",
      "UserWarning:   (552.34, 554.98) does not lie in column range (42.710453257255146, 552.1287061668683) [utils.py:740]\n",
      "UserWarning:   (502.3, 505.636) does not lie in column range (42.94946757859735, 501.9788149939541) [utils.py:740]\n",
      "UserWarning:   (520.54, 523.876) does not lie in column range (75.34481211790295, 519.9751874244257) [utils.py:740]\n",
      "UserWarning:   (552.34, 555.676) does not lie in column range (42.703892079806536, 552.1287061668683) [utils.py:740]\n",
      "UserWarning:   (42.48, 45.815999999999995) does not lie in column range (46.31066502580909, 399.03956469165666) [utils.py:740]\n",
      "UserWarning:   (399.19, 402.526) does not lie in column range (46.31066502580909, 399.03956469165666) [utils.py:740]\n",
      "UserWarning:   (552.82, 556.1560000000001) does not lie in column range (42.94759295646917, 552.3686577992746) [utils.py:740]\n"
     ]
    },
    {
     "name": "stdout",
     "output_type": "stream",
     "text": [
      "<TableList n=21>\n",
      "url with pdf final:  https://moi.gov.af/sites/default/files/2020-11/Afghanistan%20Drug%20Price%20Monitoring%20May%20%202019%20.pdf\n"
     ]
    },
    {
     "name": "stderr",
     "output_type": "stream",
     "text": [
      "UserWarning:   (552.46, 555.796) does not lie in column range (42.94946757859735, 552.1287061668683) [utils.py:740]\n",
      "UserWarning:   (496.3, 498.79) does not lie in column range (102.87926239419589, 495.7400725513906) [utils.py:740]\n",
      "UserWarning:   (99.144, 102.48) does not lie in column range (102.87926239419589, 495.7400725513906) [utils.py:740]\n",
      "UserWarning:   (496.3, 499.636) does not lie in column range (102.87926239419589, 495.7400725513906) [utils.py:740]\n",
      "UserWarning:   (552.34, 555.1) does not lie in column range (42.710453257255146, 552.1287061668683) [utils.py:740]\n",
      "UserWarning:   (552.22, 555.556) does not lie in column range (42.710453257255146, 551.8887545344619) [utils.py:740]\n",
      "UserWarning:   (552.82, 555.46) does not lie in column range (42.710453257255146, 552.6086094316809) [utils.py:740]\n",
      "UserWarning:   (502.3, 505.636) does not lie in column range (42.94946757859735, 501.9788149939541) [utils.py:740]\n",
      "UserWarning:   (537.7, 541.0360000000001) does not lie in column range (58.06829458465023, 537.2517049576784) [utils.py:740]\n",
      "UserWarning:   (552.58, 555.916) does not lie in column range (42.703892079806536, 552.2486819830714) [utils.py:740]\n",
      "UserWarning:   (552.34, 555.676) does not lie in column range (42.710453257255146, 552.1287061668683) [utils.py:740]\n",
      "UserWarning:   (42.48, 45.815999999999995) does not lie in column range (46.31066502580909, 399.03956469165666) [utils.py:740]\n",
      "UserWarning:   (399.19, 402.526) does not lie in column range (46.31066502580909, 399.03956469165666) [utils.py:740]\n",
      "UserWarning:   (552.82, 556.1560000000001) does not lie in column range (42.94759295646917, 552.6086094316809) [utils.py:740]\n"
     ]
    },
    {
     "name": "stdout",
     "output_type": "stream",
     "text": [
      "<TableList n=19>\n",
      "url with pdf final:  https://moi.gov.af/sites/default/files/2020-11/Afghanistan%20Drug%20Price%20Monitoring%20June%20%202019%20.pdf\n"
     ]
    },
    {
     "name": "stderr",
     "output_type": "stream",
     "text": [
      "UserWarning:   (552.46, 555.796) does not lie in column range (42.94946757859735, 552.1287061668683) [utils.py:740]\n",
      "UserWarning:   (496.3, 498.79) does not lie in column range (102.87926239419589, 495.7400725513906) [utils.py:740]\n",
      "UserWarning:   (99.144, 102.48) does not lie in column range (102.87926239419589, 495.7400725513906) [utils.py:740]\n",
      "UserWarning:   (496.3, 499.636) does not lie in column range (102.87926239419589, 495.7400725513906) [utils.py:740]\n",
      "UserWarning:   (552.34, 555.1) does not lie in column range (42.710453257255146, 552.1287061668683) [utils.py:740]\n",
      "UserWarning:   (552.22, 555.556) does not lie in column range (42.710453257255146, 551.8887545344619) [utils.py:740]\n",
      "UserWarning:   (552.1, 554.74) does not lie in column range (42.710453257255146, 551.8887545344619) [utils.py:740]\n",
      "UserWarning:   (515.14, 518.476) does not lie in column range (42.94946757859735, 514.6962515114874) [utils.py:740]\n",
      "UserWarning:   (515.26, 518.596) does not lie in column range (80.62374803084128, 514.6962515114874) [utils.py:740]\n",
      "UserWarning:   (552.82, 556.1560000000001) does not lie in column range (42.703892079806536, 552.6086094316809) [utils.py:740]\n",
      "UserWarning:   (42.48, 45.815999999999995) does not lie in column range (46.31066502580909, 399.03956469165666) [utils.py:740]\n",
      "UserWarning:   (399.19, 402.526) does not lie in column range (46.31066502580909, 399.03956469165666) [utils.py:740]\n",
      "UserWarning:   (552.82, 556.1560000000001) does not lie in column range (42.70951594619106, 552.6086094316809) [utils.py:740]\n"
     ]
    },
    {
     "name": "stdout",
     "output_type": "stream",
     "text": [
      "<TableList n=21>\n",
      "url with pdf final:  https://moi.gov.af/sites/default/files/2020-11/Afghanistan%20Drug%20Price%20Monitoring%20July%20%202019%20.pdf\n"
     ]
    },
    {
     "name": "stderr",
     "output_type": "stream",
     "text": [
      "UserWarning:   (552.46, 555.796) does not lie in column range (42.94946757859735, 552.1287061668683) [utils.py:740]\n",
      "UserWarning:   (494.14, 496.63) does not lie in column range (104.7988754534462, 493.82045949214034) [utils.py:740]\n",
      "UserWarning:   (101.18, 104.516) does not lie in column range (104.7988754534462, 493.82045949214034) [utils.py:740]\n",
      "UserWarning:   (100.22, 103.556) does not lie in column range (103.83906892382105, 495.02021765417174) [utils.py:740]\n",
      "UserWarning:   (495.22, 498.55600000000004) does not lie in column range (103.83906892382105, 495.02021765417174) [utils.py:740]\n",
      "UserWarning:   (552.1, 554.86) does not lie in column range (42.710453257255146, 551.8887545344619) [utils.py:740]\n",
      "UserWarning:   (552.46, 555.796) does not lie in column range (42.710453257255146, 552.0087303506651) [utils.py:740]\n",
      "UserWarning:   (552.58, 555.916) does not lie in column range (42.950404889661435, 552.3686577992746) [utils.py:740]\n",
      "UserWarning:   (552.34, 554.98) does not lie in column range (42.710453257255146, 552.0087303506651) [utils.py:740]\n",
      "UserWarning:   (497.14, 500.476) does not lie in column range (42.94946757859735, 496.93983071342205) [utils.py:740]\n",
      "UserWarning:   (535.9, 539.236) does not lie in column range (59.98790764390054, 535.5720435308344) [utils.py:740]\n",
      "UserWarning:   (552.34, 555.676) does not lie in column range (42.703892079806536, 552.1287061668683) [utils.py:740]\n",
      "UserWarning:   (552.22, 555.556) does not lie in column range (42.710453257255146, 551.8887545344619) [utils.py:740]\n",
      "UserWarning:   (42.48, 45.815999999999995) does not lie in column range (46.31066502580909, 399.03956469165666) [utils.py:740]\n",
      "UserWarning:   (399.19, 402.526) does not lie in column range (46.31066502580909, 399.03956469165666) [utils.py:740]\n",
      "UserWarning:   (552.82, 556.1560000000001) does not lie in column range (42.94759295646917, 552.3686577992746) [utils.py:740]\n"
     ]
    },
    {
     "name": "stdout",
     "output_type": "stream",
     "text": [
      "<TableList n=20>\n",
      "url with pdf final:  https://moi.gov.af/sites/default/files/2020-11/Afghanistan%20Drug%20Price%20Monitoring%20August%20%202019%20.pdf\n"
     ]
    },
    {
     "name": "stderr",
     "output_type": "stream",
     "text": [
      "UserWarning:   (552.46, 555.796) does not lie in column range (42.94946757859735, 552.1287061668683) [utils.py:740]\n",
      "UserWarning:   (495.22, 497.71000000000004) does not lie in column range (103.83906892382105, 495.02021765417174) [utils.py:740]\n",
      "UserWarning:   (100.22, 103.556) does not lie in column range (103.83906892382105, 495.02021765417174) [utils.py:740]\n",
      "UserWarning:   (495.22, 498.55600000000004) does not lie in column range (103.83906892382105, 495.02021765417174) [utils.py:740]\n",
      "UserWarning:   (552.1, 554.86) does not lie in column range (42.710453257255146, 551.8887545344619) [utils.py:740]\n",
      "UserWarning:   (552.46, 555.796) does not lie in column range (42.710453257255146, 552.0087303506651) [utils.py:740]\n",
      "UserWarning:   (552.22, 554.86) does not lie in column range (42.710453257255146, 551.7687787182588) [utils.py:740]\n",
      "UserWarning:   (497.14, 500.476) does not lie in column range (42.94946757859735, 496.93983071342205) [utils.py:740]\n",
      "UserWarning:   (541.54, 544.876) does not lie in column range (54.22906846614963, 541.090931076179) [utils.py:740]\n",
      "UserWarning:   (552.7, 556.0360000000001) does not lie in column range (42.703892079806536, 552.2486819830714) [utils.py:740]\n",
      "UserWarning:   (552.1, 555.436) does not lie in column range (42.710453257255146, 551.7687787182588) [utils.py:740]\n",
      "UserWarning:   (42.48, 45.815999999999995) does not lie in column range (46.31066502580909, 399.03956469165666) [utils.py:740]\n",
      "UserWarning:   (399.19, 402.526) does not lie in column range (46.31066502580909, 399.03956469165666) [utils.py:740]\n",
      "UserWarning:   (552.7, 556.0360000000001) does not lie in column range (42.94759295646917, 552.2486819830714) [utils.py:740]\n"
     ]
    },
    {
     "name": "stdout",
     "output_type": "stream",
     "text": [
      "<TableList n=19>\n",
      "url with pdf final:  https://moi.gov.af/sites/default/files/2020-11/Afghanistan%20Drug%20Price%20Monitoring%20September%202019%20.pdf\n"
     ]
    },
    {
     "name": "stderr",
     "output_type": "stream",
     "text": [
      "UserWarning:   (552.82, 556.1560000000001) does not lie in column range (42.710453257255146, 552.3686577992746) [utils.py:740]\n",
      "UserWarning:   (498.58, 501.07) does not lie in column range (100.47974607013302, 498.13958887545346) [utils.py:740]\n",
      "UserWarning:   (96.864, 100.2) does not lie in column range (100.47974607013302, 498.13958887545346) [utils.py:740]\n",
      "UserWarning:   (78.504, 81.84) does not lie in column range (82.24342200725515, 516.3759129383313) [utils.py:740]\n",
      "UserWarning:   (516.94, 520.2760000000001) does not lie in column range (82.24342200725515, 516.3759129383313) [utils.py:740]\n",
      "UserWarning:   (552.1, 554.86) does not lie in column range (42.710453257255146, 551.8887545344619) [utils.py:740]\n",
      "UserWarning:   (552.46, 555.796) does not lie in column range (42.710453257255146, 552.0087303506651) [utils.py:740]\n",
      "UserWarning:   (552.82, 555.46) does not lie in column range (42.710453257255146, 552.6086094316809) [utils.py:740]\n",
      "UserWarning:   (497.14, 500.476) does not lie in column range (42.94946757859735, 496.93983071342205) [utils.py:740]\n",
      "UserWarning:   (544.9, 548.236) does not lie in column range (50.8697456124616, 544.6902055622734) [utils.py:740]\n",
      "UserWarning:   (552.82, 556.1560000000001) does not lie in column range (42.703892079806536, 552.6086094316809) [utils.py:740]\n",
      "UserWarning:   (552.1, 555.436) does not lie in column range (42.710453257255146, 551.7687787182588) [utils.py:740]\n",
      "UserWarning:   (42.48, 45.815999999999995) does not lie in column range (46.31066502580909, 399.03956469165666) [utils.py:740]\n",
      "UserWarning:   (399.19, 402.526) does not lie in column range (46.31066502580909, 399.03956469165666) [utils.py:740]\n",
      "UserWarning:   (552.82, 556.1560000000001) does not lie in column range (42.94759295646917, 552.6086094316809) [utils.py:740]\n"
     ]
    },
    {
     "name": "stdout",
     "output_type": "stream",
     "text": [
      "<TableList n=19>\n",
      "url with pdf final:  https://moi.gov.af/sites/default/files/2020-11/Afghanistan%20Drug%20Price%20Monitoring%20October%202019%20.pdf\n"
     ]
    },
    {
     "name": "stderr",
     "output_type": "stream",
     "text": [
      "UserWarning:   (552.58, 555.58) does not lie in column range (42.71136127734848, 552.3686577992746) [utils.py:740]\n",
      "UserWarning:   (497.02, 499.51) does not lie in column range (101.91945586457075, 496.69987908101575) [utils.py:740]\n",
      "UserWarning:   (98.304, 101.64) does not lie in column range (101.91945586457075, 496.69987908101575) [utils.py:740]\n",
      "UserWarning:   (497.02, 500.356) does not lie in column range (101.91945586457075, 496.69987908101575) [utils.py:740]\n",
      "UserWarning:   (552.7, 555.46) does not lie in column range (42.710453257255146, 552.2486819830714) [utils.py:740]\n",
      "UserWarning:   (550.66, 553.996) does not lie in column range (42.710453257255146, 550.3290689238211) [utils.py:740]\n",
      "UserWarning:   (552.46, 555.1) does not lie in column range (42.710453257255146, 552.1287061668683) [utils.py:740]\n",
      "UserWarning:   (524.86, 528.196) does not lie in column range (42.94946757859735, 524.5342684401451) [utils.py:740]\n",
      "UserWarning:   (550.06, 553.396) does not lie in column range (45.59080969952326, 549.7291898428055) [utils.py:740]\n",
      "UserWarning:   (552.34, 555.676) does not lie in column range (42.703892079806536, 551.8887545344619) [utils.py:740]\n",
      "UserWarning:   (552.1, 555.436) does not lie in column range (42.710453257255146, 551.7687787182588) [utils.py:740]\n",
      "UserWarning:   (42.48, 45.815999999999995) does not lie in column range (46.31066502580909, 399.03956469165666) [utils.py:740]\n",
      "UserWarning:   (399.19, 402.526) does not lie in column range (46.31066502580909, 399.03956469165666) [utils.py:740]\n",
      "UserWarning:   (552.7, 556.0360000000001) does not lie in column range (42.94946757859735, 552.3686577992746) [utils.py:740]\n"
     ]
    },
    {
     "name": "stdout",
     "output_type": "stream",
     "text": [
      "<TableList n=19>\n",
      "url with pdf final:  https://moi.gov.af/sites/default/files/2020-11/Afghanistan%20Drug%20Price%20Monitoring%20November%202019%20.pdf\n"
     ]
    },
    {
     "name": "stderr",
     "output_type": "stream",
     "text": [
      "UserWarning:   (552.34, 555.34) does not lie in column range (42.71138690694789, 551.8887545344619) [utils.py:740]\n",
      "UserWarning:   (494.38, 496.87) does not lie in column range (104.55892382103991, 494.0604111245466) [utils.py:740]\n",
      "UserWarning:   (100.94, 104.276) does not lie in column range (104.55892382103991, 494.0604111245466) [utils.py:740]\n",
      "UserWarning:   (494.38, 497.716) does not lie in column range (104.55892382103991, 494.0604111245466) [utils.py:740]\n",
      "UserWarning:   (552.7, 555.46) does not lie in column range (42.710453257255146, 552.2486819830714) [utils.py:740]\n",
      "UserWarning:   (552.46, 555.796) does not lie in column range (42.710453257255146, 552.0087303506651) [utils.py:740]\n",
      "UserWarning:   (398.59, 401.926) does not lie in column range (42.94946757859735, 398.07975816203145) [utils.py:740]\n",
      "UserWarning:   (515.62, 518.956) does not lie in column range (42.651402660217656, 515.5360822249094) [utils.py:740]\n",
      "UserWarning:   (552.34, 554.98) does not lie in column range (42.710453257255146, 552.0087303506651) [utils.py:740]\n",
      "UserWarning:   (544.3, 547.636) does not lie in column range (42.94946757859735, 543.9703506650544) [utils.py:740]\n",
      "UserWarning:   (551.62, 554.956) does not lie in column range (44.151099905085545, 551.4088512696494) [utils.py:740]\n",
      "UserWarning:   (552.46, 555.796) does not lie in column range (42.703892079806536, 552.1287061668683) [utils.py:740]\n",
      "UserWarning:   (552.1, 555.436) does not lie in column range (42.710453257255146, 551.7687787182588) [utils.py:740]\n",
      "UserWarning:   (42.48, 45.815999999999995) does not lie in column range (46.31066502580909, 417.0359371221282) [utils.py:740]\n",
      "UserWarning:   (417.19, 420.526) does not lie in column range (46.31066502580909, 417.0359371221282) [utils.py:740]\n",
      "UserWarning:   (552.7, 556.0360000000001) does not lie in column range (42.94946757859735, 552.3686577992746) [utils.py:740]\n"
     ]
    },
    {
     "name": "stdout",
     "output_type": "stream",
     "text": [
      "<TableList n=20>\n",
      "url with pdf final:  https://moi.gov.af/sites/default/files/2020-11/Afghanistan%20Drug%20Price%20Monitoring%20December%202019%20.pdf\n"
     ]
    },
    {
     "name": "stderr",
     "output_type": "stream",
     "text": [
      "UserWarning:   (552.36, 555.36) does not lie in column range (42.71138690694789, 552.0087303506651) [utils.py:740]\n",
      "UserWarning:   (497.76, 500.265) does not lie in column range (101.19960096735188, 497.4197339782346) [utils.py:740]\n",
      "UserWarning:   (97.58, 100.916) does not lie in column range (101.19960096735188, 497.4197339782346) [utils.py:740]\n",
      "UserWarning:   (497.76, 501.096) does not lie in column range (101.19960096735188, 497.4197339782346) [utils.py:740]\n",
      "UserWarning:   (552.66, 555.405) does not lie in column range (42.710453257255146, 552.3686577992746) [utils.py:740]\n",
      "UserWarning:   (552.36, 555.696) does not lie in column range (42.710453257255146, 552.0087303506651) [utils.py:740]\n",
      "UserWarning:   (296.68, 300.016) does not lie in column range (42.710453257255146, 296.34026602176544) [utils.py:740]\n",
      "UserWarning:   (552.6, 555.225) does not lie in column range (42.710453257255146, 552.2486819830714) [utils.py:740]\n",
      "UserWarning:   (539.88, 543.216) does not lie in column range (42.94946757859735, 539.5312454655382) [utils.py:740]\n",
      "UserWarning:   (551.28, 554.616) does not lie in column range (44.39105153749183, 550.9289480048368) [utils.py:740]\n",
      "UserWarning:   (552.72, 556.056) does not lie in column range (42.703892079806536, 552.3686577992746) [utils.py:740]\n",
      "UserWarning:   (552.12, 555.456) does not lie in column range (42.710453257255146, 551.7687787182588) [utils.py:740]\n",
      "UserWarning:   (42.48, 45.815999999999995) does not lie in column range (46.31066502580909, 398.9195888754535) [utils.py:740]\n",
      "UserWarning:   (399.16, 402.49600000000004) does not lie in column range (46.31066502580909, 398.9195888754535) [utils.py:740]\n",
      "UserWarning:   (552.54, 555.876) does not lie in column range (42.94946757859735, 552.3686577992746) [utils.py:740]\n"
     ]
    },
    {
     "name": "stdout",
     "output_type": "stream",
     "text": [
      "<TableList n=20>\n",
      "url with pdf final:  https://moi.gov.af/sites/default/files/2020-11/Afghanistan%20Monthly%20Drug%C2%A0Price%C2%A0Monitoring%C2%A0Report%C2%A0for%20January%202020.pdf\n"
     ]
    },
    {
     "name": "stderr",
     "output_type": "stream",
     "text": [
      "UserWarning:   (537.82, 540.82) does not lie in column range (56.86853321891886, 537.3716807738815) [utils.py:740]\n",
      "UserWarning:   (560.02, 562.78) does not lie in column range (57.04850060459492, 559.44723095526) [utils.py:740]\n",
      "UserWarning:   (554.02, 556.78) does not lie in column range (57.04850060459492, 553.4484401451027) [utils.py:740]\n",
      "UserWarning:   (554.62, 557.38) does not lie in column range (56.86759956922612, 554.2882708585248) [utils.py:740]\n",
      "UserWarning:   (555.46, 558.22) does not lie in column range (56.86759956922612, 555.24807738815) [utils.py:740]\n",
      "UserWarning:   (550.78, 554.116) does not lie in column range (56.86852223480483, 550.3290689238211) [utils.py:740]\n",
      "UserWarning:   (550.18, 553.516) does not lie in column range (56.86852955754752, 549.9691414752117) [utils.py:740]\n",
      "UserWarning:   (397.27, 400.606) does not lie in column range (57.106613890568326, 396.7600241837969) [utils.py:740]\n",
      "UserWarning:   (550.18, 552.8199999999999) does not lie in column range (56.86759956922612, 549.9691414752117) [utils.py:740]\n",
      "UserWarning:   (551.74, 555.076) does not lie in column range (57.106613890568326, 551.4088512696494) [utils.py:740]\n",
      "UserWarning:   (549.7, 553.0360000000001) does not lie in column range (59.98790764390054, 549.2492865779927) [utils.py:740]\n",
      "UserWarning:   (543.22, 546.556) does not lie in column range (56.86103839177751, 542.8905683192262) [utils.py:740]\n",
      "UserWarning:   (542.62, 545.956) does not lie in column range (56.86759956922612, 542.2906892382105) [utils.py:740]\n",
      "UserWarning:   (56.64, 59.976) does not lie in column range (60.46781136549063, 460.46718258766634) [utils.py:740]\n",
      "UserWarning:   (460.66, 463.99600000000004) does not lie in column range (60.46781136549063, 460.46718258766634) [utils.py:740]\n",
      "UserWarning:   (552.34, 555.676) does not lie in column range (57.346565522974615, 551.8887545344619) [utils.py:740]\n"
     ]
    },
    {
     "name": "stdout",
     "output_type": "stream",
     "text": [
      "<TableList n=21>\n",
      "url with pdf final:  https://moi.gov.af/sites/default/files/2020-11/Afghanistan%20Monthly%20Drug%C2%A0Price%C2%A0Monitoring%C2%A0Report%C2%A0for%20February%202020.pdf\n"
     ]
    },
    {
     "name": "stderr",
     "output_type": "stream",
     "text": [
      "UserWarning:   (552.6, 555.6) does not lie in column range (56.86853321891886, 552.2486819830714) [utils.py:740]\n",
      "UserWarning:   (554.4, 557.16) does not lie in column range (57.04850060459492, 553.8083675937123) [utils.py:740]\n",
      "UserWarning:   (549.84, 552.6) does not lie in column range (57.04850060459492, 549.2492865779927) [utils.py:740]\n",
      "UserWarning:   (552.24, 555.0) does not lie in column range (56.86759956922612, 551.8887545344619) [utils.py:740]\n",
      "UserWarning:   (552.48, 555.24) does not lie in column range (56.86759956922612, 552.0087303506651) [utils.py:740]\n",
      "UserWarning:   (551.88, 555.216) does not lie in column range (56.86852223480483, 551.6488029020556) [utils.py:740]\n",
      "UserWarning:   (552.36, 555.696) does not lie in column range (56.86852955754752, 551.8887545344619) [utils.py:740]\n",
      "UserWarning:   (343.75, 347.086) does not lie in column range (56.86759956922612, 343.2508101571947) [utils.py:740]\n",
      "UserWarning:   (552.24, 554.88) does not lie in column range (56.86759956922612, 551.8887545344619) [utils.py:740]\n",
      "UserWarning:   (549.0, 552.336) does not lie in column range (57.106613890568326, 548.7693833131802) [utils.py:740]\n",
      "UserWarning:   (552.12, 555.456) does not lie in column range (56.86103839177751, 551.8887545344619) [utils.py:740]\n",
      "UserWarning:   (551.16, 554.496) does not lie in column range (56.86759956922612, 550.9289480048368) [utils.py:740]\n",
      "UserWarning:   (56.664, 60.0) does not lie in column range (60.46781136549063, 424.2344860943168) [utils.py:740]\n",
      "UserWarning:   (424.66, 427.99600000000004) does not lie in column range (60.46781136549063, 424.2344860943168) [utils.py:740]\n",
      "UserWarning:   (552.6, 555.936) does not lie in column range (57.106613890568326, 552.1287061668683) [utils.py:740]\n"
     ]
    },
    {
     "name": "stdout",
     "output_type": "stream",
     "text": [
      "<TableList n=22>\n",
      "url with pdf final:  https://moi.gov.af/sites/default/files/2020-11/Afghanistan%20Monthly%20Drug%C2%A0Price%C2%A0Monitoring%C2%A0Report%C2%A0for%20March%202020.pdf\n"
     ]
    },
    {
     "name": "stderr",
     "output_type": "stream",
     "text": [
      "UserWarning:   (552.82, 555.82) does not lie in column range (56.86853321891886, 552.3686577992746) [utils.py:740]\n",
      "UserWarning:   (546.82, 549.58) does not lie in column range (57.04850060459492, 546.3698669891173) [utils.py:740]\n",
      "UserWarning:   (552.1, 554.86) does not lie in column range (57.04850060459492, 551.6488029020556) [utils.py:740]\n",
      "UserWarning:   (552.46, 555.22) does not lie in column range (56.86759956922612, 552.0087303506651) [utils.py:740]\n",
      "UserWarning:   (551.86, 555.196) does not lie in column range (56.86852223480483, 551.6488029020556) [utils.py:740]\n",
      "UserWarning:   (552.34, 555.676) does not lie in column range (56.86852955754752, 551.8887545344619) [utils.py:740]\n",
      "UserWarning:   (385.87, 389.206) does not lie in column range (56.86759956922612, 385.4822974607014) [utils.py:740]\n",
      "UserWarning:   (552.1, 554.74) does not lie in column range (56.86759956922612, 551.7687787182588) [utils.py:740]\n",
      "UserWarning:   (554.14, 557.476) does not lie in column range (57.106613890568326, 553.8083675937123) [utils.py:740]\n",
      "UserWarning:   (552.7, 556.0360000000001) does not lie in column range (57.10848805502508, 552.3686577992746) [utils.py:740]\n",
      "UserWarning:   (552.1, 555.436) does not lie in column range (56.86103839177751, 551.7687787182588) [utils.py:740]\n",
      "UserWarning:   (552.58, 555.916) does not lie in column range (56.86759956922612, 552.3686577992746) [utils.py:740]\n",
      "UserWarning:   (56.64, 59.976) does not lie in column range (60.46781136549063, 424.2344860943168) [utils.py:740]\n",
      "UserWarning:   (424.63, 427.966) does not lie in column range (60.46781136549063, 424.2344860943168) [utils.py:740]\n",
      "UserWarning:   (552.58, 555.916) does not lie in column range (57.106613890568326, 552.2486819830714) [utils.py:740]\n"
     ]
    },
    {
     "name": "stdout",
     "output_type": "stream",
     "text": [
      "<TableList n=22>\n",
      "url with pdf final:  https://moi.gov.af/sites/default/files/2020-11/Afghanistan%20Monthly%20Drug%C2%A0Price%C2%A0Monitoring%C2%A0Report%C2%A0for%20April%202020.pdf\n"
     ]
    },
    {
     "name": "stderr",
     "output_type": "stream",
     "text": [
      "UserWarning:   (552.82, 555.82) does not lie in column range (56.86853321891886, 552.3686577992746) [utils.py:740]\n",
      "UserWarning:   (551.02, 553.78) does not lie in column range (57.04850060459492, 550.4490447400242) [utils.py:740]\n",
      "UserWarning:   (554.02, 556.78) does not lie in column range (57.04850060459492, 553.4484401451027) [utils.py:740]\n",
      "UserWarning:   (552.46, 555.22) does not lie in column range (56.86759956922612, 552.0087303506651) [utils.py:740]\n",
      "UserWarning:   (552.46, 555.796) does not lie in column range (56.86852223480483, 552.2486819830714) [utils.py:740]\n",
      "UserWarning:   (552.34, 555.676) does not lie in column range (56.86852955754752, 551.8887545344619) [utils.py:740]\n",
      "UserWarning:   (374.23, 377.56600000000003) does not lie in column range (56.86759956922612, 373.72466747279327) [utils.py:740]\n",
      "UserWarning:   (552.58, 555.22) does not lie in column range (56.86759956922612, 552.2486819830714) [utils.py:740]\n",
      "UserWarning:   (550.42, 553.756) does not lie in column range (57.106613890568326, 550.0891172914148) [utils.py:740]\n",
      "UserWarning:   (552.82, 556.1560000000001) does not lie in column range (57.10848805502508, 552.3686577992746) [utils.py:740]\n",
      "UserWarning:   (552.46, 555.796) does not lie in column range (56.86103839177751, 552.1287061668683) [utils.py:740]\n",
      "UserWarning:   (552.58, 555.916) does not lie in column range (56.86759956922612, 552.3686577992746) [utils.py:740]\n",
      "UserWarning:   (56.64, 59.976) does not lie in column range (60.46781136549063, 424.2344860943168) [utils.py:740]\n",
      "UserWarning:   (424.63, 427.966) does not lie in column range (60.46781136549063, 424.2344860943168) [utils.py:740]\n",
      "UserWarning:   (552.58, 555.916) does not lie in column range (56.86666225816204, 552.2486819830714) [utils.py:740]\n"
     ]
    },
    {
     "name": "stdout",
     "output_type": "stream",
     "text": [
      "<TableList n=24>\n",
      "url with pdf final:  https://moi.gov.af/sites/default/files/2020-11/Afghanistan%20Monthly%20Drug%C2%A0Price%C2%A0Monitoring%C2%A0Report%C2%A0for%20May%202020%20.pdf\n"
     ]
    },
    {
     "name": "stderr",
     "output_type": "stream",
     "text": [
      "UserWarning:   (552.82, 555.82) does not lie in column range (56.86853321891886, 552.3686577992746) [utils.py:740]\n",
      "UserWarning:   (489.1, 491.86) does not lie in column range (57.04850060459492, 488.54152357920196) [utils.py:740]\n",
      "UserWarning:   (472.3, 475.06) does not lie in column range (57.04850060459492, 471.74490931076184) [utils.py:740]\n",
      "UserWarning:   (552.46, 555.22) does not lie in column range (56.86759956922612, 552.0087303506651) [utils.py:740]\n",
      "UserWarning:   (552.46, 555.796) does not lie in column range (56.86852223480483, 552.2486819830714) [utils.py:740]\n",
      "UserWarning:   (552.34, 555.676) does not lie in column range (56.86852955754752, 551.8887545344619) [utils.py:740]\n",
      "UserWarning:   (335.59, 338.926) does not lie in column range (56.86759956922612, 335.09245465538095) [utils.py:740]\n",
      "UserWarning:   (552.46, 555.1) does not lie in column range (56.86759956922612, 552.0087303506651) [utils.py:740]\n",
      "UserWarning:   (553.66, 556.996) does not lie in column range (57.106613890568326, 553.3284643288996) [utils.py:740]\n",
      "UserWarning:   (552.7, 556.0360000000001) does not lie in column range (57.10848805502508, 552.1287061668683) [utils.py:740]\n",
      "UserWarning:   (552.7, 556.0360000000001) does not lie in column range (56.86103839177751, 552.3686577992746) [utils.py:740]\n",
      "UserWarning:   (552.7, 556.0360000000001) does not lie in column range (56.86759956922612, 552.3686577992746) [utils.py:740]\n",
      "UserWarning:   (56.64, 59.976) does not lie in column range (60.46781136549063, 424.2344860943168) [utils.py:740]\n",
      "UserWarning:   (424.63, 427.966) does not lie in column range (60.46781136549063, 424.2344860943168) [utils.py:740]\n",
      "UserWarning:   (552.58, 555.916) does not lie in column range (56.86666225816204, 552.3686577992746) [utils.py:740]\n"
     ]
    },
    {
     "name": "stdout",
     "output_type": "stream",
     "text": [
      "<TableList n=24>\n",
      "url with pdf final:  https://moi.gov.af/sites/default/files/2020-11/Afghanistan%20Monthly%20Drug%C2%A0Price%C2%A0Monitoring%C2%A0Report%C2%A0for%20June%202020%20.pdf\n"
     ]
    },
    {
     "name": "stderr",
     "output_type": "stream",
     "text": [
      "UserWarning:   (552.82, 555.82) does not lie in column range (56.86853321891886, 552.3686577992746) [utils.py:740]\n",
      "UserWarning:   (431.71, 434.46999999999997) does not lie in column range (57.04850060459492, 431.1930834340992) [utils.py:740]\n",
      "UserWarning:   (552.46, 555.22) does not lie in column range (56.86759956922612, 552.0087303506651) [utils.py:740]\n",
      "UserWarning:   (552.1, 555.436) does not lie in column range (56.86852223480483, 551.7687787182588) [utils.py:740]\n",
      "UserWarning:   (552.34, 555.676) does not lie in column range (56.86852955754752, 551.8887545344619) [utils.py:740]\n",
      "UserWarning:   (329.59, 332.926) does not lie in column range (56.86759956922612, 329.0936638452237) [utils.py:740]\n",
      "UserWarning:   (552.46, 555.1) does not lie in column range (56.86759956922612, 552.0087303506651) [utils.py:740]\n",
      "UserWarning:   (551.74, 555.076) does not lie in column range (57.106613890568326, 551.4088512696494) [utils.py:740]\n",
      "UserWarning:   (552.7, 556.0360000000001) does not lie in column range (57.10848805502508, 552.1287061668683) [utils.py:740]\n",
      "UserWarning:   (552.7, 556.0360000000001) does not lie in column range (56.86103839177751, 552.2486819830714) [utils.py:740]\n",
      "UserWarning:   (552.82, 556.1560000000001) does not lie in column range (56.86759956922612, 552.3686577992746) [utils.py:740]\n",
      "UserWarning:   (56.64, 59.976) does not lie in column range (60.46781136549063, 424.2344860943168) [utils.py:740]\n",
      "UserWarning:   (424.63, 427.966) does not lie in column range (60.46781136549063, 424.2344860943168) [utils.py:740]\n",
      "UserWarning:   (552.58, 555.916) does not lie in column range (57.106613890568326, 552.2486819830714) [utils.py:740]\n"
     ]
    },
    {
     "name": "stdout",
     "output_type": "stream",
     "text": [
      "<TableList n=22>\n"
     ]
    }
   ],
   "source": [
    "substring = \"Price\"\n",
    "alldata = []\n",
    "i = 0\n",
    "with pd.ExcelWriter('PriceData.xlsx') as writer:\n",
    "    for a in soupy(\"a\", href=True):\n",
    "        mystr=a['href']\n",
    "        if(mystr[-4:]=='.pdf' and substring in mystr):\n",
    "            print (\"url with pdf final: \", a['href'])\n",
    "            urlpdf = a['href']\n",
    "            tables = camelot.read_pdf(urlpdf, pages=\"2-end\")\n",
    "            print(tables)\n",
    "            for table in tables:\n",
    "                for (columnName, columnData) in table.df.iteritems():\n",
    "                    for value in columnData.values:\n",
    "                        if((\"dry opium farm-gate price\" or \"farm-gate price\") in value.lower()):\n",
    "                            sheetName = \"Sheet\" + str(i)\n",
    "                            table.df.to_excel(writer, sheet_name=sheetName)\n",
    "                            i+=1"
   ]
  },
  {
   "cell_type": "code",
   "execution_count": 49,
   "metadata": {},
   "outputs": [
    {
     "name": "stderr",
     "output_type": "stream",
     "text": [
      "UserWarning:   (552.46, 555.796) does not lie in column range (42.94946757859735, 552.1287061668683) [utils.py:740]\n",
      "UserWarning:   (495.22, 497.71000000000004) does not lie in column range (103.83906892382105, 495.02021765417174) [utils.py:740]\n",
      "UserWarning:   (100.22, 103.556) does not lie in column range (103.83906892382105, 495.02021765417174) [utils.py:740]\n",
      "UserWarning:   (495.22, 498.55600000000004) does not lie in column range (103.83906892382105, 495.02021765417174) [utils.py:740]\n",
      "UserWarning:   (552.1, 554.86) does not lie in column range (42.710453257255146, 551.8887545344619) [utils.py:740]\n",
      "UserWarning:   (552.46, 555.796) does not lie in column range (42.710453257255146, 552.0087303506651) [utils.py:740]\n",
      "UserWarning:   (552.22, 554.86) does not lie in column range (42.710453257255146, 551.7687787182588) [utils.py:740]\n",
      "UserWarning:   (497.14, 500.476) does not lie in column range (42.94946757859735, 496.93983071342205) [utils.py:740]\n",
      "UserWarning:   (541.54, 544.876) does not lie in column range (54.22906846614963, 541.090931076179) [utils.py:740]\n",
      "UserWarning:   (552.7, 556.0360000000001) does not lie in column range (42.703892079806536, 552.2486819830714) [utils.py:740]\n",
      "UserWarning:   (552.1, 555.436) does not lie in column range (42.710453257255146, 551.7687787182588) [utils.py:740]\n",
      "UserWarning:   (42.48, 45.815999999999995) does not lie in column range (46.31066502580909, 399.03956469165666) [utils.py:740]\n",
      "UserWarning:   (399.19, 402.526) does not lie in column range (46.31066502580909, 399.03956469165666) [utils.py:740]\n",
      "UserWarning:   (552.7, 556.0360000000001) does not lie in column range (42.94759295646917, 552.2486819830714) [utils.py:740]\n"
     ]
    }
   ],
   "source": [
    "tabley = camelot.read_pdf(\"test.pdf\", pages=\"2-end\")"
   ]
  },
  {
   "cell_type": "code",
   "execution_count": 77,
   "metadata": {},
   "outputs": [
    {
     "name": "stdout",
     "output_type": "stream",
     "text": [
      "Column Name :  0\n",
      "Dry opium Farm-gate price (US$/Kg)\n"
     ]
    }
   ],
   "source": [
    "i = 0\n",
    "with pd.ExcelWriter('test.xlsx') as writer:\n",
    "    for table in tabley:\n",
    "        for (columnName, columnData) in table.df.iteritems():\n",
    "#             print('Column Name : ', columnName)\n",
    "            for value in columnData.values:\n",
    "                if((\"dry opium farm-gate price\" or \"farm-gate price\") in value.lower()):\n",
    "                    print('Column Name : ', columnName)\n",
    "                    print(value)\n",
    "#             print('Column Contents : ', columnData.values)\n",
    "#         if(table.df.a.str.contains(\"opium\")):\n",
    "#             print(table.df)\n",
    "#         sheetName = \"Sheet\" + str(i)\n",
    "#         table.df.to_excel(writer, sheet_name=sheetName)\n",
    "#         i+=1"
   ]
  },
  {
   "cell_type": "code",
   "execution_count": null,
   "metadata": {},
   "outputs": [],
   "source": []
  }
 ],
 "metadata": {
  "kernelspec": {
   "display_name": "Python 3",
   "language": "python",
   "name": "python3"
  }
 },
 "nbformat": 4,
 "nbformat_minor": 4
}
